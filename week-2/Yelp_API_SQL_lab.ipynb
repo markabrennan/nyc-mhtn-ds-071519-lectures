{
 "cells": [
  {
   "cell_type": "markdown",
   "metadata": {},
   "source": [
    "# Yelp API - Lab\n",
    "\n",
    "\n",
    "\n",
    "## Introduction \n",
    "\n",
    "Now that we've seen how the Yelp API works, it's time to put those API and SQL skills to work in order to do some basic business analysis! Taking things a step further, you'll also independently explore how to perform pagination in order to retrieve a full results set from the Yelp API!\n",
    "\n",
    "## Objectives\n",
    "\n",
    "You will be able to:\n",
    "* Create a DB on AWS to store information from Yelp about businesses\n",
    "* Create HTTP requests to get data from Yelp API\n",
    "* Parse HTTP responses and insert the information into your DB\n",
    "* Perform pagination to retrieve troves of data!\n",
    "* Write SQL queries to answer questions about your data "
   ]
  },
  {
   "cell_type": "markdown",
   "metadata": {},
   "source": [
    "## Problem Introduction\n",
    "\n",
    "You've now worked with some API calls, but we have yet to see how to retrieve a more complete dataset in a programmatic manner and combine it with our other data skills. In this lab you will get data from the Yelp API, store that data in a SQL Database on AWS, and write queries to answer follow-up questions. \n",
    "\n",
    "\n",
    "### Outline:\n",
    "\n",
    "1. Determine which pieces of information you need to pull from the Yelp API.\n",
    "\n",
    "2. Create a DB schema with 2 tables. One for the businesses and one for the reviews.\n",
    "\n",
    "3. Create Python functions to:\n",
    "  - Perform a search of businesses using pagination\n",
    "  - Parse the API response for specific data points\n",
    "  - Insert the data into your AWS DB\n",
    "\n",
    "4. Use the functions above in a loop that will paginate over the results to retrieve all of the results.\n",
    "\n",
    "5. Create functions to:\n",
    "  - Retrieve the reviews data of one business\n",
    "  - Parse the reviews response for specific review data\n",
    "  - Insert the review data into the DB\n",
    "\n",
    "6. Using SQL, query all of the business IDs. Using the 3 Python functions you've created, run your business IDs through a loop to get the reviews for each business and insert them into your DB.\n",
    "\n",
    "7. Write SQL queries to answer the following questions about your data.\n",
    "\n",
    "\n",
    "Bonus Steps:  \n",
    "- Place your helper functions in a package so that your final notebook only has the major steps listed.\n",
    "- Rewrite your business search functions to be able take an argument for the type of business you are searching for.\n",
    "- Add another group of businesses to your database.\n"
   ]
  },
  {
   "cell_type": "markdown",
   "metadata": {},
   "source": [
    " \n",
    "## SQL Questions:\n",
    "\n",
    "- What are the 5 businesses with the highest average ratings?\n",
    "- What are the 5 businesses with the lowest average ratings?\n",
    "- What is the average rating of restaurants that have a price label of one dollar sign? Two dollar signs? Three dollar signs? \n",
    "- How many businesses have a rating above 4.5?\n",
    "- How many businesses have a rating below 3?\n",
    "- Return the text of the oldes review in the table.\n",
    "- Return the overall rating of the business with the oldest review. \n",
    "- Find the highest rated business and return text of the newest review of the three.\n",
    "- Find the lowest rated business and return text of the newest review of the three.  \n"
   ]
  },
  {
   "cell_type": "markdown",
   "metadata": {},
   "source": [
    "## Part I - Set up the DB\n",
    "\n",
    "Start by reading SQL questions above to get an understanding of the data you will need. Then, read the documentation of Yelp API to understand what data you will receive in the response.  \n",
    "\n",
    "\n",
    "Now that you are familiar with the data, create your SQL queries to create the DB and the appropriate tables. "
   ]
  },
  {
   "cell_type": "code",
   "execution_count": null,
   "metadata": {},
   "outputs": [],
   "source": [
    "## Connect to DB server on AWS"
   ]
  },
  {
   "cell_type": "code",
   "execution_count": null,
   "metadata": {},
   "outputs": [],
   "source": [
    "## Create new DB "
   ]
  },
  {
   "cell_type": "code",
   "execution_count": null,
   "metadata": {},
   "outputs": [],
   "source": [
    "# Create a table for the Businesses"
   ]
  },
  {
   "cell_type": "code",
   "execution_count": null,
   "metadata": {},
   "outputs": [],
   "source": [
    "# Create a table for the reviews"
   ]
  },
  {
   "cell_type": "markdown",
   "metadata": {},
   "source": [
    "## Part 2: Create ETL pipeline for the business data from the API"
   ]
  },
  {
   "cell_type": "code",
   "execution_count": null,
   "metadata": {},
   "outputs": [],
   "source": [
    "# write a function to make a call to the API"
   ]
  },
  {
   "cell_type": "code",
   "execution_count": null,
   "metadata": {},
   "outputs": [],
   "source": [
    "# write a function to parse the API response \n",
    "# so that you can easily insert the data in to the DB"
   ]
  },
  {
   "cell_type": "code",
   "execution_count": 1,
   "metadata": {},
   "outputs": [],
   "source": [
    "# Write a function to take your parsed data and insert it into the DB"
   ]
  },
  {
   "cell_type": "code",
   "execution_count": null,
   "metadata": {},
   "outputs": [],
   "source": []
  },
  {
   "cell_type": "markdown",
   "metadata": {},
   "source": [
    "## Part 3: Create ETL pipeline for the review data from the API"
   ]
  },
  {
   "cell_type": "code",
   "execution_count": null,
   "metadata": {},
   "outputs": [],
   "source": [
    "# write a query to pull back all of the business ids \n",
    "# you will need these ids to pull back the reviews for each restaurant"
   ]
  },
  {
   "cell_type": "code",
   "execution_count": null,
   "metadata": {},
   "outputs": [],
   "source": [
    "# write a function that take a business id \n",
    "# and makes a call to the API for reivews\n",
    "# then parse out the relevant information"
   ]
  },
  {
   "cell_type": "code",
   "execution_count": null,
   "metadata": {},
   "outputs": [],
   "source": [
    "# write a function to insert the parsed data into the reviews table"
   ]
  },
  {
   "cell_type": "code",
   "execution_count": null,
   "metadata": {},
   "outputs": [],
   "source": [
    "## Part 4: Write SQL queries that will answer the questions posed. "
   ]
  },
  {
   "cell_type": "markdown",
   "metadata": {},
   "source": [
    "###  Pagination\n",
    "\n",
    "Returning to the Yelp API, the [documentation](https://www.yelp.com/developers/documentation/v3/business_search) also provides us details regarding the API limits. These often include details about the number of requests a user is allowed to make within a specified time limit and the maximum number of results to be returned. In this case, we are told that any request has a maximum of 50 results per request and defaults to 20. Furthermore, any search will be limited to a total of 1000 results. To retrieve all 1000 of these results, we would have to page through the results piece by piece, retriving 50 at a time. Processes such as these are often refered to as pagination.\n",
    "\n",
    "Now that you have an initial response, you can examine the contents of the json container. For example, you might start with ```response.json().keys()```. Here, you'll see a key for `'total'`, which tells you the full number of matching results given your query parameters. Write a loop (or ideally a function) which then makes successive API calls using the offset parameter to retrieve all of the results (or 5000 for a particularly large result set) for the original query. As you do this, be mindful of how you store the data. \n",
    "\n",
    "**Note: be mindful of the API rate limits. You can only make 5000 requests per day, and APIs can make requests too fast. Start prototyping small before running a loop that could be faulty. You can also use time.sleep(n) to add delays. For more details see https://www.yelp.com/developers/documentation/v3/rate_limiting.**"
   ]
  },
  {
   "cell_type": "markdown",
   "metadata": {},
   "source": [
    "***Below is sample code that you can use to help you deal with the pagination parameter.***"
   ]
  },
  {
   "cell_type": "code",
   "execution_count": 31,
   "metadata": {},
   "outputs": [],
   "source": [
    "# function to get yelp business reviews\n",
    "# BEFORE refactoring\n",
    "import time\n",
    "\n",
    "def yelp_call(url_params, api_key):\n",
    "    url = 'https://api.yelp.com/v3/businesses/search'\n",
    "    headers = {'Authorization': 'Bearer {}'.format(api_key)}\n",
    "    response = requests.get(url, headers=headers, params=url_params)\n",
    "    \n",
    "#     data = response.json()['businesses']\n",
    "#     return data\n",
    "    return response.json()\n",
    "\n",
    "def all_results(url_params, api_key):\n",
    "    num = yelp_call(url_params, config.key)['total']\n",
    "    print('{} total matches found.'.format(num))\n",
    "    cur = 0\n",
    "    results = []\n",
    "    while cur < num and cur < 1000:\n",
    "        url_params['offset'] = cur\n",
    "        results.extend(yelp_call(url_params, api_key)['businesses'])\n",
    "        # could also insert into DB now, instead\n",
    "        # of waiting\n",
    "        time.sleep(.1) #Wait a second\n",
    "        cur += 50\n",
    "    return results"
   ]
  },
  {
   "cell_type": "code",
   "execution_count": 21,
   "metadata": {},
   "outputs": [],
   "source": [
    "term = 'burgers'\n",
    "location = 'Manhattan'\n",
    "url_params = {  'term': term.replace(' ', '+'),\n",
    "                'location': location.replace(' ', '+'),\n",
    "                'limit' : 50\n",
    "             }\n"
   ]
  },
  {
   "cell_type": "code",
   "execution_count": 22,
   "metadata": {},
   "outputs": [],
   "source": [
    "import config\n",
    "import requests"
   ]
  },
  {
   "cell_type": "code",
   "execution_count": 24,
   "metadata": {},
   "outputs": [
    {
     "name": "stdout",
     "output_type": "stream",
     "text": [
      "8900 total matches found.\n"
     ]
    }
   ],
   "source": [
    "# This does all the work to get the restuarant reviews:\n",
    "results = all_results(url_params, config.key)"
   ]
  },
  {
   "cell_type": "code",
   "execution_count": 333,
   "metadata": {
    "scrolled": true
   },
   "outputs": [],
   "source": [
    "business_ids = []\n",
    "for i in results:\n",
    "    business_ids.append(i['id'])"
   ]
  },
  {
   "cell_type": "code",
   "execution_count": 15,
   "metadata": {
    "collapsed": true
   },
   "outputs": [
    {
     "data": {
      "text/plain": [
       "['Black Iron Burger',\n",
       " 'Black Tap Craft Burgers & Beer',\n",
       " 'Burger & Lobster',\n",
       " \"Benson's NYC\",\n",
       " 'Burger & Lobster',\n",
       " 'The Burgary',\n",
       " 'Bareburger',\n",
       " 'Holy Cow',\n",
       " 'BH Kitchen & Bar',\n",
       " 'Judge Roy Bean Public House',\n",
       " 'Burger Joint',\n",
       " 'JG Melon',\n",
       " \"Paul's Da Burger Joint\",\n",
       " 'Breakroom',\n",
       " 'Emily - West Village',\n",
       " \"Whitman's\",\n",
       " 'Bareburger',\n",
       " '5 Napkin Burger',\n",
       " 'Burger One',\n",
       " 'Snax Spot',\n",
       " 'Brindle Room',\n",
       " 'Hero Certified Burgers',\n",
       " 'Black Burger',\n",
       " 'Harvest Kitchen',\n",
       " \"Flip'n Toss\",\n",
       " \"Ruby's Cafe\",\n",
       " 'Burgers By Honest Chops',\n",
       " 'Royale',\n",
       " 'Burger Inc Nyc',\n",
       " 'Geteburgers',\n",
       " 'Shake Shack',\n",
       " 'Black Iron Burger',\n",
       " 'Copper John’s Pub + Kitchen',\n",
       " \"Richie's Burger Joint\",\n",
       " 'Superiority Burger',\n",
       " \"Juanchi's Burger\",\n",
       " \"Bill's Bar & Burger\",\n",
       " 'Whitmans Hudson Yards',\n",
       " 'Black Burger',\n",
       " 'The Flying Cock',\n",
       " 'Bareburger',\n",
       " \"Ruby's - Murray Hill\",\n",
       " 'Tanner Smiths',\n",
       " 'Burger & Barrel',\n",
       " \"P.J. Clarke's\",\n",
       " \"Gebhard's Beer Culture\",\n",
       " \"Junior's Restaurant & Bakery - 45th St.\",\n",
       " 'The Usual',\n",
       " 'YN',\n",
       " 'Hendriks',\n",
       " 'J.G. Melon',\n",
       " 'New York Burger',\n",
       " 'Shake Shack',\n",
       " 'The Harrow New York',\n",
       " 'Minetta Tavern',\n",
       " 'Smashburger',\n",
       " 'Frank Mac’s Pub',\n",
       " 'Black Tap Craft Burgers & Beer',\n",
       " 'Au Cheval Diner',\n",
       " \"Mel's Burger Bar\",\n",
       " 'The Bar Room',\n",
       " \"Mel's Burger Bar\",\n",
       " 'Kobeyaki',\n",
       " 'Parker & Quinn',\n",
       " 'International Wings Factory',\n",
       " '5 Napkin Burger',\n",
       " \"Friedman's\",\n",
       " 'Bareburger',\n",
       " '5 Napkin Burger',\n",
       " 'Farm to Burger',\n",
       " 'HandCraft Kitchen & Cocktails',\n",
       " 'BurgerFi',\n",
       " \"BarBacon Hell's Kitchen\",\n",
       " 'Umami Burger - Brookfield Place',\n",
       " 'Bareburger',\n",
       " 'Shake Shack',\n",
       " 'Park Avenue Tavern',\n",
       " 'Dutch Freds',\n",
       " 'Melt Shop',\n",
       " 'Upland',\n",
       " 'The Brazen Tavern',\n",
       " 'The Horny Ram',\n",
       " 'Creamline',\n",
       " \"Carnegie John's\",\n",
       " 'Haymaker Bar and Kitchen',\n",
       " 'Emily',\n",
       " 'Trademark Taste + Grind',\n",
       " 'The Smith',\n",
       " 'The Spotted Pig',\n",
       " 'Emmy Squared - East Village',\n",
       " 'Shake Shack',\n",
       " 'Flip',\n",
       " \"Lucky's Famous Burgers\",\n",
       " \"Marty's V Burger\",\n",
       " '5 Napkin Burger',\n",
       " 'Tara Rose',\n",
       " 'The Counter',\n",
       " \"Lillie's Victorian Establishment\",\n",
       " 'Creamline',\n",
       " 'Five Guys',\n",
       " 'Clinton Hall',\n",
       " 'Five Guys',\n",
       " \"Molly's\",\n",
       " \"Jacob's Pickles\",\n",
       " \"Xi'an Famous Foods\",\n",
       " 'Corner Bistro',\n",
       " 'The Spotted Dog',\n",
       " 'Joy Burger Bar',\n",
       " 'JG Melon',\n",
       " 'Harlem Shake',\n",
       " 'Cock & Bull',\n",
       " 'Jackson Hole Burgers',\n",
       " \"Sean's Bar & Kitchen\",\n",
       " \"Tony Dragon's Grille\",\n",
       " 'The Smith',\n",
       " 'Bea',\n",
       " \"Lilly's Craft and Kitchen\",\n",
       " 'Bravest',\n",
       " 'Clinton Hall',\n",
       " 'Shake Shack',\n",
       " 'Draught 55',\n",
       " \"Bill's Bar & Burger Downtown\",\n",
       " 'Harlem Burger Co',\n",
       " 'Thunder Bun',\n",
       " 'KXBURGERBAR',\n",
       " 'Cask Bar & Kitchen',\n",
       " \"Cooper's Craft & Kitchen\",\n",
       " \"Lucky's Famous Burgers\",\n",
       " 'Boilermaker',\n",
       " 'Pickler',\n",
       " 'District Tap House',\n",
       " 'Black Tap Craft Burgers & Beer',\n",
       " 'Juniper Bar',\n",
       " 'Bar Sardine',\n",
       " 'Foxy Johns Bar & Kitchen',\n",
       " 'The Ribbon',\n",
       " 'BRGR',\n",
       " 'Smashburger',\n",
       " 'Schnippers',\n",
       " 'Clinton Hall',\n",
       " \"Friedman's\",\n",
       " 'HB Burger',\n",
       " 'RARE Bar & Grill',\n",
       " 'The Wilson',\n",
       " 'Cookshop',\n",
       " 'American Retro',\n",
       " 'Shake Shack',\n",
       " \"e's BAR\",\n",
       " 'Jackson Hole',\n",
       " \"Schnipper's\",\n",
       " 'Harlem Public',\n",
       " \"Harding's\",\n",
       " 'Jones Wood Foundry',\n",
       " \"Eastfield's Kitchen & Bar\",\n",
       " 'Diller',\n",
       " \"Westville Hell's Kitchen\",\n",
       " 'District Social',\n",
       " 'The Winslow',\n",
       " 'Quality Eats',\n",
       " \"Xi'an Famous Foods\",\n",
       " 'Death Ave',\n",
       " \"Heidi's House By The Side Of The Road\",\n",
       " 'Moo Burger',\n",
       " 'Five Guys',\n",
       " \"Annie Moore's Bar & Restaurant\",\n",
       " 'The Supply House',\n",
       " 'Two 8 Two Bar & Burger',\n",
       " 'Treadwell Park West',\n",
       " 'The Spot Mix Grill',\n",
       " 'Emoji Burger',\n",
       " 'The Penrose',\n",
       " 'Stax Sports Bar',\n",
       " 'The Jeffrey Craft Beer & Bites',\n",
       " 'Jeepney',\n",
       " \"Ethyl's Alcohol & Food\",\n",
       " 'Ampersand',\n",
       " 'Shake Shack',\n",
       " '9ten Restaurant',\n",
       " 'The Smith',\n",
       " 'Schnippers',\n",
       " 'Tallgrass Burger',\n",
       " 'Shake Shack',\n",
       " 'Houseman',\n",
       " 'Kurant',\n",
       " 'BarBacon Union Square',\n",
       " 'The Shakespeare',\n",
       " 'Five Guys',\n",
       " 'The Alcove',\n",
       " 'Emojo Burger',\n",
       " 'Tavern29',\n",
       " 'Underdog',\n",
       " 'Kobeyaki',\n",
       " 'The Ainsworth - FiDi',\n",
       " 'Burger Club',\n",
       " 'Smithfield Hall',\n",
       " 'White Horse Tavern - Financial District',\n",
       " \"Tribeca's Kitchen\",\n",
       " \"Alfie's\",\n",
       " 'The Junction',\n",
       " \"PJ Clarke's\",\n",
       " 'Dive 106',\n",
       " 'Brooklyn Burgers & Beer',\n",
       " 'Bondurants',\n",
       " 'Red Hook Tavern',\n",
       " 'Flat Top',\n",
       " 'Covina',\n",
       " 'Burger Heaven',\n",
       " 'Jax BBQ',\n",
       " 'Tri Tip Grill',\n",
       " \"Steak 'N Lobster\",\n",
       " 'The Wild Son',\n",
       " 'The Baroness Bar + Kitchen',\n",
       " 'The Painted Lady Saloon',\n",
       " \"Patrick's Restaurant\",\n",
       " \"Bill's Townhouse\",\n",
       " \"The Stag's Head\",\n",
       " 'Sister Jane NYC',\n",
       " 'Hudson Bar Room',\n",
       " 'Locksmith Bar',\n",
       " 'Black Emperor Bar',\n",
       " 'One Lenox',\n",
       " 'Desperately Seeking Sandwich',\n",
       " 'Juniper',\n",
       " 'Westville Chelsea',\n",
       " 'Augurs Well',\n",
       " 'Valerie',\n",
       " \"Friedman's\",\n",
       " 'Burger Heights',\n",
       " \"L'ADRESSE\",\n",
       " 'Bareburger',\n",
       " 'Oscar Wilde',\n",
       " 'Boulton & Watt',\n",
       " 'Sons of Thunder',\n",
       " 'BurgerFi',\n",
       " 'BurgerFi',\n",
       " 'The Fire Pit Grill',\n",
       " '4 Charles Prime Rib',\n",
       " 'RARE Bar & Grill',\n",
       " 'Bedford Falls',\n",
       " 'Treadwell Park',\n",
       " 'Pier i Cafe',\n",
       " 'The Greenwich Social',\n",
       " 'Left Bank Burger Bar',\n",
       " 'The Warren',\n",
       " \"Donovan's Pub\",\n",
       " \"Mom's Kitchen & Bar\",\n",
       " 'Shake Shack',\n",
       " 'WilliamsBurger',\n",
       " 'The Copper Still Chelsea',\n",
       " \"My Belly's Playlist\",\n",
       " \"Ted's Montana Grill - New York\",\n",
       " 'The Habit Burger Grill',\n",
       " 'The Headless Widow',\n",
       " 'Corner Bistro',\n",
       " 'Nobody Told Me',\n",
       " 'Third Avenue Ale House',\n",
       " 'The Burger Garage',\n",
       " 'F. Ottomanelli Burgers & Belgian Fries',\n",
       " 'The Spaniard',\n",
       " 'Tavern on Jane',\n",
       " 'Xian Famous Foods',\n",
       " 'Manhatta',\n",
       " 'Blue Ribbon Federal Grill',\n",
       " 'Burgerology',\n",
       " 'Westville West',\n",
       " 'The Jin',\n",
       " 'Hillstone Restaurant',\n",
       " 'Wood and Ales',\n",
       " \"Woodrow's\",\n",
       " 'Ella Kitchen & Bar',\n",
       " \"Chumley's\",\n",
       " 'Mr Burger',\n",
       " 'Flip Sigi',\n",
       " 'The Black Derby',\n",
       " 'The Polo Bar',\n",
       " 'BK JANI',\n",
       " \"Dylan Murphy's\",\n",
       " 'Milk Burger',\n",
       " 'Nickel & Diner',\n",
       " 'Spoon Table & Bar',\n",
       " 'Diesel and Duke',\n",
       " \"Steve's Burgers\",\n",
       " \"Fanelli's Cafe\",\n",
       " 'Blackwells Pub And Restaurant',\n",
       " \"Xi'an Famous Foods\",\n",
       " 'Jackson Hole',\n",
       " 'The Paris Cafe',\n",
       " 'Joe Jr. Restaurant',\n",
       " 'Mister Dips',\n",
       " 'Schnippers',\n",
       " 'South Brooklyn Foundry',\n",
       " 'by CHLOE. Rockefeller Center',\n",
       " 'Archer & Goat',\n",
       " \"Jasper's Taphouse + Kitchen\",\n",
       " 'The Malt House',\n",
       " 'Belcampo Hudson Yards',\n",
       " 'Smokey Burger',\n",
       " 'The Plaza Food Hall',\n",
       " 'BLACKBARN',\n",
       " 'AwesomeSauce',\n",
       " 'Boon European Bistro',\n",
       " '123 Burger Shot Beer',\n",
       " 'Anytime',\n",
       " \"Jimbo's Hamburger Place\",\n",
       " 'West End Bar & Grill',\n",
       " 'The Independent',\n",
       " 'Shake Shack',\n",
       " '212 Burgers',\n",
       " 'George Keeley',\n",
       " \"Bubby's High Line\",\n",
       " \"Petey's Burger\",\n",
       " 'The Grey Dog',\n",
       " 'Five Guys',\n",
       " 'Burgerim',\n",
       " 'Butcher Bar',\n",
       " 'The Bluebell Cafe',\n",
       " 'Urbanspace Vanderbilt',\n",
       " '5th & Mad',\n",
       " 'Till & Sprocket',\n",
       " 'Soho Park',\n",
       " 'Distilled',\n",
       " 'RH Rooftop Restaurant',\n",
       " 'La Bonbonniere',\n",
       " 'Lokal 83 Mediterranean Kitchen',\n",
       " \"Big Nick's Burger & Pizza Joint Too\",\n",
       " 'Suspenders Restaurant & Bar',\n",
       " 'Friedmans',\n",
       " 'The Station',\n",
       " 'Jam Burger',\n",
       " 'CK14  The Crooked Knife',\n",
       " 'Raise New York',\n",
       " 'J J Kinahan’s',\n",
       " 'Jane',\n",
       " \"Lolita's Kitchen\",\n",
       " \"Cooper's Craft & Kitchen\",\n",
       " 'Hourglass Tavern',\n",
       " '5 Boro Burger',\n",
       " 'The Lowery Bar & Kitchen',\n",
       " 'David Burke Tavern',\n",
       " 'Cheeburger Cheeburger',\n",
       " 'The Dead Poet',\n",
       " 'Jerkyz',\n",
       " 'Gramercy Tavern',\n",
       " \"Mother's\",\n",
       " 'TGA NYC',\n",
       " \"Krug's Tavern\",\n",
       " \"Bo's Kitchen & Bar Room\",\n",
       " 'Times Square Diner',\n",
       " 'Trading Post',\n",
       " 'Rip’s Malt Shop',\n",
       " \"Jimbo's Hamburger Palace\",\n",
       " \"Foley's NY\",\n",
       " \"Connolly's Pub & Restaurant\",\n",
       " 'Korzo',\n",
       " 'The Burger Bistro',\n",
       " \"Friedman's\",\n",
       " 'Five Guys',\n",
       " 'Emmy Squared - Brooklyn',\n",
       " 'Red Paper Clip',\n",
       " 'Hudson & Charles Dinette',\n",
       " 'Burgerim',\n",
       " 'Blue Dog Cookhouse & Bar',\n",
       " \"Fred's Restaurant\",\n",
       " 'The Ribbon',\n",
       " 'Burke & Wills',\n",
       " \"Jack's Wife Freda\",\n",
       " 'District Local',\n",
       " 'Shake Shack',\n",
       " 'The Rag Trader & Bo Peep Cocktail and Highball Store',\n",
       " 'The Milton',\n",
       " 'Bowery Road',\n",
       " 'The Malt House',\n",
       " 'Blue Collar Bushwick',\n",
       " \"Connolly's Pub & Restaurant\",\n",
       " 'Pelicana Chicken',\n",
       " 'The Perfect Pint',\n",
       " 'Ferris',\n",
       " 'Hold Fast Kitchen and Spirits',\n",
       " 'The Infamous Bistro',\n",
       " \"Johny's Luncheonette\",\n",
       " 'Eats',\n",
       " \"Bobby's Burger Palace\",\n",
       " 'Green Gorilla Kitchen',\n",
       " 'Landmark Tavern',\n",
       " \"Jack's Sliders & Sushi\",\n",
       " 'East Harlem Bottling',\n",
       " 'Hillstone Restaurant',\n",
       " 'Burgerstrasse',\n",
       " 'U.S. Veteran Burgers and Fries',\n",
       " 'The Blacksmith NYC Bar and Kitchen',\n",
       " 'Boucherie Union Square',\n",
       " \"Walker's\",\n",
       " 'ECB Burgers',\n",
       " 'Bronx Burger Bistro',\n",
       " 'Dark Side of the Moo Cafe',\n",
       " 'The Ear Inn',\n",
       " 'Five Guys',\n",
       " 'Set L.E.S',\n",
       " 'Gold Bear',\n",
       " 'The Seneca',\n",
       " 'Broome Street Bar',\n",
       " \"Xi'an Famous Foods\",\n",
       " \"Carragher's Pub & Restaurant\",\n",
       " 'Trinity Place',\n",
       " 'Maison Pickle',\n",
       " 'Dudleys',\n",
       " 'Five Guys Burgers & Fries',\n",
       " \"Frites 'n' Meats\",\n",
       " 'P.S. Kitchen',\n",
       " 'Corner Bistro',\n",
       " \"JoJo's Philosophy\",\n",
       " 'Burger Heaven',\n",
       " \"Halalbee's\",\n",
       " 'The Fitz',\n",
       " 'GST Village',\n",
       " 'The Brew Inn',\n",
       " 'The Breslin',\n",
       " 'Toast',\n",
       " 'Five Guys',\n",
       " 'City Kitchen',\n",
       " 'Burger It Up',\n",
       " 'Crisp',\n",
       " 'Holy Schnitzel',\n",
       " 'Yo-Burger',\n",
       " 'Burger Bistro',\n",
       " \"M J  Smith's Food & Spirits\",\n",
       " 'The Local Press',\n",
       " 'Shake Shack - New York',\n",
       " 'House of Brews',\n",
       " 'Lot 2',\n",
       " 'Cafe Metro',\n",
       " 'One Mile House',\n",
       " 'Shake Shack',\n",
       " \"Xi'an Famous Foods\",\n",
       " 'The Gem Saloon',\n",
       " 'Boucherie West Village',\n",
       " \"Big Daddy's\",\n",
       " 'The Grey Dog - Nolita',\n",
       " 'Next Level Burger',\n",
       " 'Bareburger',\n",
       " \"Hellcat Annie's Tap Room\",\n",
       " 'Wayback Burgers',\n",
       " 'Turntable Chicken Jazz',\n",
       " 'Chefs Club Counter',\n",
       " 'Belle Reve',\n",
       " 'Burger Walla',\n",
       " \"BV'S Burger\",\n",
       " \"Mustang Harry's\",\n",
       " 'Spring Cafe',\n",
       " 'by CHLOE. Flatiron',\n",
       " 'Deweys Pub',\n",
       " 'White Oak Tavern',\n",
       " 'Five Guys',\n",
       " 'Strange Flavor Burger Shack',\n",
       " \"Petey's Burger\",\n",
       " 'BurgerIM Gourmet Burger',\n",
       " 'Maggie Reillys Restaurant',\n",
       " 'Stocked Burger',\n",
       " 'Social Drink and Food',\n",
       " 'Manhattan Proper',\n",
       " 'K Chicken',\n",
       " 'Spin 54',\n",
       " 'POST',\n",
       " 'Shake Shack',\n",
       " 'The Grey Dog - Union Square',\n",
       " \"Virginia's\",\n",
       " 'Dram Shop',\n",
       " 'FERNS',\n",
       " 'Society Cafe',\n",
       " 'Don Wagyu',\n",
       " 'The Loyal',\n",
       " 'Pommes Frites',\n",
       " 'Bareburger',\n",
       " 'The Douglass Public House',\n",
       " 'Café 21',\n",
       " 'Proper West',\n",
       " 'Zinburger Wine & Burger Bar',\n",
       " 'Bareburger',\n",
       " 'Pier 66 Maritime',\n",
       " 'Hollow Nickel',\n",
       " 'Jollibee',\n",
       " 'Blue Collar',\n",
       " 'Copinette',\n",
       " 'Blue Ribbon Brasserie - SoHo',\n",
       " 'Action Burger',\n",
       " 'Sweet Afton',\n",
       " 'Gotham West Market',\n",
       " 'ReBAR & kitchen',\n",
       " 'Westville - Wall St',\n",
       " \"Monk Mcginn's\",\n",
       " 'Clancey',\n",
       " 'The Starlight',\n",
       " 'Sagaponack Bar & Grill',\n",
       " 'Sabroso Express',\n",
       " 'White Manna',\n",
       " 'High Street On Hudson',\n",
       " 'Fine & Rare',\n",
       " 'Würstbar',\n",
       " 'Mocha Burger',\n",
       " 'Quality Eats',\n",
       " 'Gnarly Eats',\n",
       " \"Whitman's\",\n",
       " \"Emmett's\",\n",
       " 'The Marshal',\n",
       " 'Bedford & Co',\n",
       " 'White Star Bar',\n",
       " \"Gleason's Tavern\",\n",
       " 'Pao De Queijo',\n",
       " \"Montagu's Gusto\",\n",
       " 'Westville Hudson',\n",
       " 'Simon & The Whale',\n",
       " 'Beer Culture',\n",
       " 'Barn Joo 35',\n",
       " 'Hexagon Lounge',\n",
       " 'Oppa',\n",
       " 'Nova Burger and Mexican Grill',\n",
       " 'Alameda',\n",
       " 'Onderdonk & Sons',\n",
       " 'Freemans',\n",
       " 'Cobble & Co.',\n",
       " 'Loring Place',\n",
       " 'Melt Shop',\n",
       " 'Due West',\n",
       " 'Maxwells Central Park',\n",
       " \"Aretsky's Patroon\",\n",
       " \"Minnie's\",\n",
       " 'Jollibee',\n",
       " 'Amity Hall Uptown',\n",
       " 'West Bank Cafe',\n",
       " 'The Distillery',\n",
       " 'Hall',\n",
       " 'Westville East',\n",
       " \"Duke's\",\n",
       " 'Pink Moose',\n",
       " 'The Bronx Burger House',\n",
       " 'Burger Supreme',\n",
       " 'MTHR Vegan',\n",
       " 'The Grayson',\n",
       " 'Cafe Cluny',\n",
       " 'Five Guys',\n",
       " 'Carroll Place',\n",
       " 'Calle Dao - Chelsea',\n",
       " 'Bowery Burger',\n",
       " 'The Lost Lady',\n",
       " 'City Vineyard',\n",
       " 'Dutch Boy Burger',\n",
       " 'The Queensboro',\n",
       " 'The Spotted Owl Tavern',\n",
       " 'Clinton Street Baking Company',\n",
       " \"Neil's Coffee Shop\",\n",
       " 'American Grill NYC',\n",
       " \"Cozy Soup 'n' Burger\",\n",
       " 'The Leroy House',\n",
       " 'Bareburger',\n",
       " 'Burger UrWay',\n",
       " 'Moonstruck Eatery',\n",
       " 'The Crooked Knife',\n",
       " \"David's Cafe\",\n",
       " 'Waterfront Ale House',\n",
       " 'Red Robin Gourmet Burgers',\n",
       " \"Niall's\",\n",
       " 'Suprema Provisions',\n",
       " \"Shorty's\",\n",
       " 'Hudson Burgers and Beers',\n",
       " \"Effy's Kitchen\",\n",
       " 'Bubo',\n",
       " 'The Grafton',\n",
       " 'BLVD Bistro',\n",
       " \"Ellen's Stardust Diner\",\n",
       " '800 Degrees Woodfired Kitchen',\n",
       " 'Hill and Bay',\n",
       " 'Clement',\n",
       " 'Home Frite',\n",
       " 'Skinflints',\n",
       " 'The Habit Burger Grill',\n",
       " 'AWOL Bar & Grill',\n",
       " 'Bolivian Llama Party',\n",
       " 'Elephant & Castle',\n",
       " 'The Storehouse',\n",
       " \"P.J. Clarke's\",\n",
       " 'Onieals',\n",
       " 'The Little Beet Table',\n",
       " 'Lansdowne Road',\n",
       " 'Gansevoort Market',\n",
       " 'Black Crescent',\n",
       " 'Cheeseburger in Paradise',\n",
       " \"JJ's Place\",\n",
       " 'Blue Haven East',\n",
       " 'DuMont Burger',\n",
       " \"Luke's Bar and Grill\",\n",
       " 'Mile 17 Bar & Restaurant',\n",
       " 'Smith & Mills',\n",
       " 'Bar SixtyFive',\n",
       " 'The Rochard',\n",
       " 'Sanger Hall',\n",
       " \"Del Frisco's Grille\",\n",
       " \"Hart's Restaurant\",\n",
       " 'Sweet Brooklyn Bar And Grill',\n",
       " 'Merrion Square Pub',\n",
       " 'Print',\n",
       " \"Lion's Head Tavern\",\n",
       " \"Angela's Sandwich Shop\",\n",
       " 'Tryon Public House',\n",
       " \"Jack's Wife Freda\",\n",
       " 'Chirping Chicken',\n",
       " 'Fox and Crow',\n",
       " \"Pig 'N' Whistle\",\n",
       " '12 Chairs',\n",
       " \"Jack Doyle's Bar & Restaurant\",\n",
       " 'Stout NYC Grand Central',\n",
       " 'Bobwhite Counter',\n",
       " 'Peri Peri Grill House',\n",
       " '191 Knickerbocker',\n",
       " 'ETC Eatery',\n",
       " 'Big Portion',\n",
       " 'Easy Lover',\n",
       " 'Burger Village',\n",
       " \"Joe's Kitchen\",\n",
       " 'Old Town Bar & Restaurant',\n",
       " 'Melt Shop',\n",
       " 'East Village Tavern',\n",
       " 'Smashburger',\n",
       " 'Hibernia Bar',\n",
       " \"Andrew's Classic Roadside by Hard Times Sundaes\",\n",
       " 'Bronx Alehouse',\n",
       " \"Kleinberg's\",\n",
       " \"Leslie's Kitchen\",\n",
       " 'White Star Warren',\n",
       " 'The Red Flame',\n",
       " \"Shorty's\",\n",
       " 'American Cut Steakhouse Tribeca',\n",
       " 'Viand Cafe',\n",
       " 'Forgtmenot',\n",
       " '8th Hill',\n",
       " 'Momofuku Nishi',\n",
       " 'Harlem Ale House',\n",
       " \"e's BAR\",\n",
       " \"Eli's Night Shift\",\n",
       " \"Connolly's Pub & Restaurant\",\n",
       " \"Xi'an Famous Foods\",\n",
       " 'Banter',\n",
       " 'Burgerim',\n",
       " 'The Milling Room',\n",
       " 'Mocha Burger + SUB Express UES',\n",
       " 'Woodbines',\n",
       " 'The Stagecoach Tavern',\n",
       " \"America's Cafe & Grill\",\n",
       " 'Prontito',\n",
       " 'The Tailor Public House',\n",
       " 'Cheeky Sandwiches',\n",
       " \"Buddy Who's\",\n",
       " 'The House of Brews',\n",
       " \"Hiram's Roadstand\",\n",
       " 'Duke Eatery',\n",
       " 'The Wooden Spoon',\n",
       " 'B2 Harlem',\n",
       " 'Foragers Table',\n",
       " 'The Perfect Pint',\n",
       " 'Viand',\n",
       " 'Sweetwater Restaurant',\n",
       " 'Stout NYC',\n",
       " 'Grand Canyon Bistro',\n",
       " 'Cafe Luxembourg',\n",
       " 'Sugarburg',\n",
       " 'Salis Cafe',\n",
       " \"Pete's Tavern\",\n",
       " 'Motel Morris',\n",
       " \"Burgers N' Shakes\",\n",
       " 'Park Slope Ale House',\n",
       " '1803',\n",
       " 'The OX Tavern',\n",
       " 'Chirping Chicken',\n",
       " \"Walter's\",\n",
       " 'The Calaveras',\n",
       " \"Ted's Corner Tavern\",\n",
       " 'Gentle Perch',\n",
       " 'The Modern',\n",
       " 'Bareburger',\n",
       " 'by CHLOE. West Village',\n",
       " 'Craft',\n",
       " 'Crif Dogs',\n",
       " 'Atwood',\n",
       " 'The Flower Shop',\n",
       " 'Sweet Science',\n",
       " 'Forest Hills Station House',\n",
       " 'CajunSea & Oyster Bar',\n",
       " 'Keens Steakhouse',\n",
       " 'Esme',\n",
       " \"Harry's\",\n",
       " \"Lillie's Victorian Establishment\",\n",
       " \"Carl's Jr.\",\n",
       " 'The Copper Still',\n",
       " 'Atto Prime Meats and Seafood',\n",
       " 'Bar Bolinas',\n",
       " 'Gourmet 53',\n",
       " 'Dinosaur Bar-B-Que',\n",
       " 'The Astorian',\n",
       " 'Bohemian Restaurant',\n",
       " 'Upper East Café',\n",
       " 'Henry Public',\n",
       " 'TØRST',\n",
       " 'The Commodore',\n",
       " \"Lilly's Cocktail and Wine\",\n",
       " 'Eastwood',\n",
       " 'Broadstone Bar & Kitchen',\n",
       " \"Sarge's Delicatessen & Diner\",\n",
       " 'BXL Zoute',\n",
       " 'Divine',\n",
       " \"Uncle Jack's Steakhouse - Westside\",\n",
       " 'Whitman’s SOHO',\n",
       " 'Chirping Chicken',\n",
       " \"Yia Yia's- Homemade Greek Food\",\n",
       " 'Burger Bound',\n",
       " \"Murray's Cheese Bar\",\n",
       " 'Whiskey Tavern',\n",
       " \"Sassy's Specialty Sandwiches\",\n",
       " 'Rabbithole Restaurant',\n",
       " 'The Quarter Brooklyn',\n",
       " 'The Smith',\n",
       " \"EJ's Luncheonette\",\n",
       " 'Westville Dumbo',\n",
       " 'Ramen Burger',\n",
       " 'The Bear',\n",
       " 'Eighteen Restaurant',\n",
       " \"Bean's & Lager\",\n",
       " 'The Wren',\n",
       " 'While We Were Young',\n",
       " 'Counter & Bodega',\n",
       " 'Atrium Dumbo',\n",
       " 'Clyde Fraziers Wine and Dine',\n",
       " 'Schilling',\n",
       " \"Eliza's Local\",\n",
       " 'North River Lobster Co',\n",
       " \"Mother's Ruin\",\n",
       " 'Renaissance Harlem',\n",
       " 'Bar B',\n",
       " 'Bierhaus NYC',\n",
       " \"Brother Jimmy's BBQ\",\n",
       " 'Highlands NYC',\n",
       " 'Satori Burgers',\n",
       " 'Playwright Irish Pub',\n",
       " 'Miznon North',\n",
       " \"Maggie's Place\",\n",
       " \"McGettigan's NYC\",\n",
       " 'Chubby Burgers & Chicken',\n",
       " 'Black Iron Burger',\n",
       " 'NY Grill & Deli',\n",
       " 'Astoria Craft',\n",
       " 'Maloney & Porcelli',\n",
       " 'Woodpecker by David Burke',\n",
       " \"Xi'an Famous Foods\",\n",
       " \"Mo's Original\",\n",
       " 'dumont burger',\n",
       " \"Shorty's\",\n",
       " 'The Hutton',\n",
       " 'Izzies Cheesesteaks',\n",
       " 'Fancy Nancy',\n",
       " 'Moloko',\n",
       " 'Amity Hall',\n",
       " 'Egghead',\n",
       " 'Lexington Brass',\n",
       " \"Bonnie's Grill\",\n",
       " 'The Hive',\n",
       " 'Dog And Bone',\n",
       " 'Quality Meats',\n",
       " \"Junior's Restaurant & Bakery - 49th St.\",\n",
       " 'The Whitby Bar and Restaurant',\n",
       " 'The Grill at All About Food',\n",
       " 'Cafe Katja',\n",
       " 'Prime 16',\n",
       " 'Hilltop Park Alehouse',\n",
       " 'The Mermaid Inn',\n",
       " \"Bernie's\",\n",
       " 'Dig Inn',\n",
       " 'Heartland Brewery and Chophouse',\n",
       " 'Bodega 88',\n",
       " 'The Long Hall Pub & Grocery',\n",
       " \"Ida's Nearabout\",\n",
       " 'Mad River Bar & Grille',\n",
       " \"Murphy's Tavern\",\n",
       " \"Raoul's Restaurant\",\n",
       " \"Duke's\",\n",
       " 'Two Hands',\n",
       " 'The Ainsworth - East Village',\n",
       " 'Chick-fil-A',\n",
       " 'The Shadmoor',\n",
       " 'Délice Café And Catering',\n",
       " 'Hard Times Sundaes',\n",
       " 'SuperNova',\n",
       " \"O'Hara's Restaurant and Pub\",\n",
       " 'Melt Shop',\n",
       " 'Saxon + Parole',\n",
       " 'The Wooly Public',\n",
       " 'Snowdonia',\n",
       " 'Burger Shop',\n",
       " 'Redeye Grill',\n",
       " 'Baker Street Pub',\n",
       " 'Fools Gold NYC',\n",
       " 'Greenwich Street Tavern',\n",
       " 'Natureworks',\n",
       " \"Xi'an Famous Foods\",\n",
       " 'Wine:34',\n",
       " 'The Beer Bar',\n",
       " 'Printers Alley',\n",
       " \"Tiny's & The Bar Upstairs\",\n",
       " \"Kelvin's Food Truck\",\n",
       " 'The Hop Shoppe',\n",
       " \"Baron's\",\n",
       " 'Island Burger',\n",
       " 'DB Bistro Moderne',\n",
       " 'Mob Burger',\n",
       " 'Rochelles',\n",
       " \"Jack Demsey's\",\n",
       " 'Jumbo Hamburgers',\n",
       " 'Souvlaki GR',\n",
       " 'The Brooklyn Tree',\n",
       " 'Boeuf & Bun',\n",
       " 'John the Greek',\n",
       " 'Clinton Hall',\n",
       " 'Taproom No. 307',\n",
       " 'The Factory 380',\n",
       " 'The Grey Dog',\n",
       " 'Trophy Bar',\n",
       " 'Empire Diner',\n",
       " \"Haswell Green's\",\n",
       " 'Stout NYC FiDi',\n",
       " 'Upright',\n",
       " 'The Filmore Delicatessen',\n",
       " 'The Boom Burger',\n",
       " 'Raclette',\n",
       " 'The Happiest Hour',\n",
       " 'The District',\n",
       " 'Grand Salon',\n",
       " 'Wollensky Grill',\n",
       " 'Midnights',\n",
       " 'Shake Shack',\n",
       " 'Bosna Express',\n",
       " 'Burger King',\n",
       " 'Del Sur Cocina',\n",
       " \"O'Lunney's\",\n",
       " 'Good Eats Charcoal Grill',\n",
       " 'Franklin Park',\n",
       " 'Hill and Dale',\n",
       " \"Jameson's Bar and Kitchen\",\n",
       " 'Cherry Point',\n",
       " 'The Pennsy',\n",
       " \"Jackson's Eatery | Bar\",\n",
       " \"Maxwell's Bar & Restaurant\",\n",
       " 'White Castle',\n",
       " 'Texas Chicken & Burgers',\n",
       " \"McGee's Pub\",\n",
       " \"Wolfe Tone's\",\n",
       " \"Jimbo's Hamburger Palace\",\n",
       " 'Robert',\n",
       " 'Blind Tiger Ale House',\n",
       " 'Hamburgao',\n",
       " 'Vago Restaurant',\n",
       " 'Barcade',\n",
       " 'Little King',\n",
       " 'R Lounge at Two Times Square',\n",
       " 'Home Base Bistro',\n",
       " 'Clay',\n",
       " 'Anable Basin Sailing Bar & Grill',\n",
       " 'Quality Eats',\n",
       " 'Munch',\n",
       " 'Pasture Burger',\n",
       " 'Union Square Cafe',\n",
       " 'Broadway Restaurant',\n",
       " 'Bareburger',\n",
       " 'The Meatball Shop',\n",
       " \"Duffy's Tavern\",\n",
       " \"Ryan Maguire's Restaurant & Bar\",\n",
       " 'Sonnyboy',\n",
       " 'Fournos Theophilos',\n",
       " \"Emmett O'Lunney's Irish Pub\",\n",
       " 'Dark Horse',\n",
       " 'Coco & Cru',\n",
       " 'Gramercy Ale House',\n",
       " 'The Long Island Bar',\n",
       " 'B Cafe East',\n",
       " 'Hunt & Fish Club',\n",
       " \"Dirty Pierre's\",\n",
       " 'Flatiron Hall Restaurant and Beer Hall',\n",
       " 'Amsterdam Ale House',\n",
       " 'Prospect Bar & Grill',\n",
       " 'Cebu Bar & Bistro',\n",
       " 'James',\n",
       " 'Burger UrWay',\n",
       " \"Rano's Chicken & Burgers\",\n",
       " 'Bellwether',\n",
       " 'Joe Allen',\n",
       " 'Three Guys Restaurant',\n",
       " \"Formerly Crow's\",\n",
       " 'Craft House',\n",
       " 'Walter Foods',\n",
       " 'Gun Hill Tavern',\n",
       " \"Jimbo's Hamburgers\",\n",
       " \"983-Bushwick's Living Room\",\n",
       " \"Neir's Tavern\",\n",
       " 'Veselka',\n",
       " 'Hop House Harlem',\n",
       " 'Coppelia',\n",
       " 'La Vela Dining & Bar',\n",
       " 'Knickerbocker Bar & Grill',\n",
       " 'The Sparrow Tavern',\n",
       " 'Mokum',\n",
       " 'K Rico Steakhouse',\n",
       " 'Novelty Burger and Bar',\n",
       " 'Burger box',\n",
       " 'OTB',\n",
       " 'Honest Chops Butchery',\n",
       " 'Faces & Names',\n",
       " \"Mom's Kitchen & Bar\",\n",
       " 'Barnacho',\n",
       " 'Blue Hill',\n",
       " 'Butter Midtown',\n",
       " 'The Harold',\n",
       " 'Delicatessen',\n",
       " 'White Mana Diner',\n",
       " 'Dromedary Urban Tiki Bar',\n",
       " 'White Castle',\n",
       " 'The Last Stop',\n",
       " 'The Wheelhouse',\n",
       " 'Smashburger',\n",
       " 'Perrine',\n",
       " 'Reichenbach Hall',\n",
       " 'Burger Time',\n",
       " 'Elim Deli Cafe',\n",
       " 'Cafeteria',\n",
       " \"Parnell's Pub & Restaurant\",\n",
       " 'The Ainsworth - Midtown',\n",
       " 'Bar Basic',\n",
       " 'Tompkins Square Bar',\n",
       " 'Urbanspace At 570 Lex',\n",
       " \"Addy's Barbeque\",\n",
       " 'Black Swan',\n",
       " 'The Ellington',\n",
       " 'Linen Hall',\n",
       " 'Harlem Food Bar',\n",
       " 'The New Amity Restaurant',\n",
       " 'Stay Gold',\n",
       " 'Randolph Beer NOLITA',\n",
       " 'Porchlight',\n",
       " 'Holy Ground',\n",
       " 'Broadway Bites',\n",
       " \"Harry's Food And Drink\",\n",
       " 'Bay Market Kitchen',\n",
       " 'Jajaja',\n",
       " 'Mudville9',\n",
       " 'Bar180',\n",
       " 'Urbanspace Garment District',\n",
       " 'Burger UrWay',\n",
       " \"Lizzie King's Parlor\",\n",
       " 'Redemption NYC',\n",
       " 'Five Leaves',\n",
       " 'by CHLOE. SOHO',\n",
       " 'McSorleys Old Ale House',\n",
       " 'John Doe',\n",
       " \"Seamore's\",\n",
       " 'The Chelsea Bell',\n",
       " \"Del Frisco's Double Eagle Steakhouse\",\n",
       " 'The Heights Bar & Grill',\n",
       " 'Fawkner',\n",
       " 'The Dutch',\n",
       " 'Miss Dong Burger',\n",
       " 'The Tuck Room',\n",
       " 'Bareburger',\n",
       " 'The Half Pint',\n",
       " 'Hartbreakers',\n",
       " '1 Vizio',\n",
       " \"Old John's Luncheonette\",\n",
       " 'Blackstone Bar & Grill',\n",
       " 'Certé',\n",
       " 'Springbone Kitchen',\n",
       " 'Nusr-Et Steakhouse',\n",
       " 'Lexington Candy Shop',\n",
       " 'The Seafire Grill',\n",
       " 'Allswell',\n",
       " 'Brooklyn Ice House',\n",
       " 'Burgers+Q',\n",
       " 'The Odeon',\n",
       " 'Anchor Bar NYC',\n",
       " 'The Bedford',\n",
       " 'Pure & Fresh',\n",
       " 'Tortoise & Hare',\n",
       " '27 Morton',\n",
       " 'BLT Steak',\n",
       " 'Bar314',\n",
       " 'Calle Dao - Bryant Park',\n",
       " 'Vitae',\n",
       " 'Root & Bone',\n",
       " 'August',\n",
       " 'The Gray Mare',\n",
       " 'Hudson Malone: A New York Joint',\n",
       " 'Paper Daisy',\n",
       " 'Pig Beach',\n",
       " 'Pennsylvania 6 NYC',\n",
       " \"Harold's\",\n",
       " 'The Ginger Man',\n",
       " 'Sedona Taphouse']"
      ]
     },
     "execution_count": 15,
     "metadata": {},
     "output_type": "execute_result"
    }
   ],
   "source": [
    "business_names = []\n",
    "for i in results:\n",
    "    business_names.append(i['name'])\n",
    "business_names"
   ]
  },
  {
   "cell_type": "code",
   "execution_count": 334,
   "metadata": {
    "scrolled": true
   },
   "outputs": [],
   "source": [
    "business_ratings = []\n",
    "for i in results:\n",
    "    business_ratings.append(i['rating'])"
   ]
  },
  {
   "cell_type": "code",
   "execution_count": 335,
   "metadata": {},
   "outputs": [],
   "source": [
    "business_prices = []\n",
    "for i in results:\n",
    "    if 'price' in i.keys():\n",
    "        business_prices.append(i['price'])\n",
    "    else:\n",
    "        business_prices.append(None)"
   ]
  },
  {
   "cell_type": "code",
   "execution_count": 142,
   "metadata": {},
   "outputs": [],
   "source": [
    "def get_bus_recs(results):\n",
    "    bus_recs_list = []\n",
    "    for rec in results:\n",
    "        id = rec.get('id')\n",
    "        name = rec.get('name', None)\n",
    "        rating = rec.get('rating', None)\n",
    "        price = rec.get('price', None)\n",
    "        bus_recs_list.append(dict(id=id, name=name, rating=rating, price=price))\n",
    "        \n",
    "    return bus_recs_list\n"
   ]
  },
  {
   "cell_type": "code",
   "execution_count": 42,
   "metadata": {},
   "outputs": [],
   "source": [
    "import config"
   ]
  },
  {
   "cell_type": "code",
   "execution_count": 44,
   "metadata": {},
   "outputs": [
    {
     "data": {
      "text/plain": [
       "<module 'config' from '/Users/markbrennan/bootcamp/nyc-mhtn-ds-071519-lectures/week-2/config.py'>"
      ]
     },
     "execution_count": 44,
     "metadata": {},
     "output_type": "execute_result"
    }
   ],
   "source": [
    "import importlib\n",
    "importlib.reload(config)"
   ]
  },
  {
   "cell_type": "code",
   "execution_count": 52,
   "metadata": {},
   "outputs": [],
   "source": [
    "# Business Insert BEFORE Refactoring\n",
    "\n",
    "from datetime import date, datetime, timedelta\n",
    "import mysql.connector\n",
    "from mysql.connector import errorcode\n",
    "\n",
    "DB_NAME = 'Yelp'\n",
    "\n",
    "cnx = mysql.connector.connect(\n",
    "    host = config.host,\n",
    "    user = config.user,\n",
    "    passwd = config.password,\n",
    "    database = DB_NAME\n",
    ")\n",
    "cursor = cnx.cursor()\n",
    "\n",
    "#tomorrow = datetime.now().date() + timedelta(days=1)\n",
    "\n",
    "\n",
    "add_business = (\"INSERT INTO businesses \"\n",
    "               \"(id, name, rating, price) \"\n",
    "               \"VALUES (%s, %s, %s, %s)\")\n",
    "\n",
    "values = (business_ids[0], business_names[0], business_ratings[0], business_prices[0])\n",
    "\n",
    "cursor.execute(add_business, values)\n",
    "\n",
    "# Make sure data is committed to the database\n",
    "cnx.commit()\n",
    "\n",
    "cursor.close()\n",
    "cnx.close()\n",
    "\n"
   ]
  },
  {
   "cell_type": "code",
   "execution_count": 202,
   "metadata": {},
   "outputs": [],
   "source": [
    "# Populate DB with restaurant records\n",
    "# AFTER Refactoring\n",
    "def populate_db(records, table_name, config_params):\n",
    "    INSERT_STRING = (\"INSERT INTO {table_name} \"\n",
    "               \"(id, name, rating, price) \"\n",
    "               \"VALUES (%s, %s, %s, %s)\")\n",
    "    INSERT_STR = f'INSERT INTO {table_name} (id, name, rating, price) ' \n",
    "    VALUE_STR = 'VALUES (%s, %s, %s, %s)'\n",
    "    INSERT_QUERY = INSERT_STR + VALUE_STR\n",
    "    print(INSERT_STR)\n",
    "    print(VALUE_STR)\n",
    "    print(INSERT_QUERY)\n",
    "    conn = yelp.get_db_conn(config_params)\n",
    "    if not conn:\n",
    "        print('No DB connection!')\n",
    "        return\n",
    "    try:\n",
    "        cursor = conn.cursor()\n",
    "        for rec in records:\n",
    "            values = tuple(rec.values())\n",
    "            cursor.execute(INSERT_QUERY, values)\n",
    "\n",
    "        conn.commit()\n",
    "        \n",
    "    finally:\n",
    "        conn.close()    "
   ]
  },
  {
   "cell_type": "code",
   "execution_count": 177,
   "metadata": {},
   "outputs": [],
   "source": [
    "## CHECKING FOR DUPES!\n",
    "import collections\n",
    "dupes = [item for item, count in collections.Counter(business_ids).items() if count > 1]"
   ]
  },
  {
   "cell_type": "code",
   "execution_count": 178,
   "metadata": {},
   "outputs": [
    {
     "data": {
      "text/plain": [
       "['bpjDo7svAFD10eszaOPQHw']"
      ]
     },
     "execution_count": 178,
     "metadata": {},
     "output_type": "execute_result"
    }
   ],
   "source": [
    "dupes"
   ]
  },
  {
   "cell_type": "code",
   "execution_count": 179,
   "metadata": {},
   "outputs": [
    {
     "data": {
      "text/plain": [
       "99"
      ]
     },
     "execution_count": 179,
     "metadata": {},
     "output_type": "execute_result"
    }
   ],
   "source": [
    "business_ids.index('bpjDo7svAFD10eszaOPQHw')"
   ]
  },
  {
   "cell_type": "code",
   "execution_count": 180,
   "metadata": {},
   "outputs": [],
   "source": [
    "dupe_slots = []\n",
    "for i in range(len(business_ids)):\n",
    "    if business_ids[i] == 'bpjDo7svAFD10eszaOPQHw':\n",
    "        dupe_slots.append(i)"
   ]
  },
  {
   "cell_type": "code",
   "execution_count": 181,
   "metadata": {},
   "outputs": [
    {
     "data": {
      "text/plain": [
       "[99, 100]"
      ]
     },
     "execution_count": 181,
     "metadata": {},
     "output_type": "execute_result"
    }
   ],
   "source": [
    "dupe_slots"
   ]
  },
  {
   "cell_type": "code",
   "execution_count": null,
   "metadata": {},
   "outputs": [],
   "source": [
    "for i in dupes:\n",
    "    for j in range(len(business_ids)):\n",
    "        if business_ids[j] == i:\n",
    "            del results[j]"
   ]
  },
  {
   "cell_type": "code",
   "execution_count": 185,
   "metadata": {},
   "outputs": [],
   "source": [
    "import copy\n",
    "clean_results = copy.deepcopy(results)"
   ]
  },
  {
   "cell_type": "code",
   "execution_count": 54,
   "metadata": {},
   "outputs": [],
   "source": [
    "# Populate DB with restaurant records\n",
    "# BEFORE Refactoring\n",
    "\n",
    "def insert_into_db():\n",
    "    cnx = mysql.connector.connect(\n",
    "    host = config.host,\n",
    "    user = config.user,\n",
    "    passwd = config.password,\n",
    "    database = \"Yelp\")\n",
    "    cursor = cnx.cursor()\n",
    "    for i in range(1,1000):\n",
    "        add_business = (\"INSERT INTO businesses \"\n",
    "               \"(id, name, rating, price) \"\n",
    "               \"VALUES (%s, %s, %s, %s)\")\n",
    "        values = (business_ids[i], business_names[i], business_ratings[i], business_prices[i])\n",
    "        cursor.execute(add_business, values)\n",
    "    # Make sure data is committed to the database\n",
    "    cnx.commit()\n",
    "\n",
    "    cursor.close()\n",
    "    cnx.close()\n",
    "    "
   ]
  },
  {
   "cell_type": "code",
   "execution_count": 55,
   "metadata": {},
   "outputs": [],
   "source": [
    "insert_into_db()"
   ]
  },
  {
   "cell_type": "code",
   "execution_count": null,
   "metadata": {},
   "outputs": [],
   "source": []
  },
  {
   "cell_type": "code",
   "execution_count": 59,
   "metadata": {},
   "outputs": [],
   "source": [
    "def yelp_review_call(api_key, bus_id):\n",
    "# GET https://api.yelp.com/v3/businesses/{id}/reviews\n",
    "\n",
    "    url = f'https://api.yelp.com/v3/businesses/{bus_id}/reviews'\n",
    "    headers = {'Authorization': 'Bearer {}'.format(api_key)}\n",
    "    \n",
    "    response = requests.get(url, headers=headers)\n",
    "    \n",
    "#     data = response.json()['businesses']\n",
    "#     return data\n",
    "    return response.json()\n"
   ]
  },
  {
   "cell_type": "code",
   "execution_count": 63,
   "metadata": {},
   "outputs": [
    {
     "data": {
      "text/plain": [
       "999"
      ]
     },
     "execution_count": 63,
     "metadata": {},
     "output_type": "execute_result"
    }
   ],
   "source": [
    "# code to get Yelp reviews\n",
    "# BEFORE refactoring\n",
    "reviews_all_dict = dict.fromkeys(business_ids,0)\n",
    "\n",
    "for i in business_ids:\n",
    "    reviews_all_dict[i] = yelp_review_call(config.key, i)\n",
    "len(reviews_all_dict)"
   ]
  },
  {
   "cell_type": "code",
   "execution_count": null,
   "metadata": {},
   "outputs": [],
   "source": []
  },
  {
   "cell_type": "code",
   "execution_count": 65,
   "metadata": {},
   "outputs": [],
   "source": [
    "# Reviews API took a while to run, so save to disk!\n",
    "import json\n",
    "with open('reviews.json', 'w') as fp:\n",
    "    json.dump(reviews_all_dict, fp)\n"
   ]
  },
  {
   "cell_type": "code",
   "execution_count": 223,
   "metadata": {},
   "outputs": [],
   "source": [
    "# Create our review records\n",
    "# Before refactoring\n",
    "review_list = []\n",
    "for key in reviews_data.keys():\n",
    "    bus_id = key\n",
    "    reviews = reviews_data[key]['reviews']\n",
    "    for item in reviews:\n",
    "        review_list.append(dict(id=item['id'], \n",
    "                             text=item['text'], \n",
    "                             rating=item['rating'], \n",
    "                             creation_dt=item['time_created'],\n",
    "                             bus_id=bus_id))"
   ]
  },
  {
   "cell_type": "code",
   "execution_count": 226,
   "metadata": {},
   "outputs": [],
   "source": [
    "# PROCESS OUR REVIEWS LIST HERE:"
   ]
  },
  {
   "cell_type": "code",
   "execution_count": 233,
   "metadata": {},
   "outputs": [],
   "source": [
    "import config\n",
    "import yelp"
   ]
  },
  {
   "cell_type": "code",
   "execution_count": 257,
   "metadata": {},
   "outputs": [],
   "source": [
    "db_conn = yelp.get_db_conn(config)"
   ]
  },
  {
   "cell_type": "code",
   "execution_count": 258,
   "metadata": {},
   "outputs": [
    {
     "name": "stdout",
     "output_type": "stream",
     "text": [
      "row:  ('GKyBfU-XnyMCwq6yE3qDeQ', \"Oh! My! God! Chef David! \\nOne of the Best experiences and meals I have had in nyc/Brooklyn.  It's a neighborhood gem. The restaurant itself is cozy and...\", 5, '2019-01-20 18:24:22', 'nKjEA5nW5zm2MjD2ukdTtQ')\n",
      "row:  ('b4loAJG3uneonwjDN150rQ', \"The pork\\nThe lasagna\\nThe salad\\nThe donkey sculpture\\nThe hazelnut dessert\\nYou son of a bitch, David you've done it again.\", 5, '2019-01-20 18:06:49', 'nKjEA5nW5zm2MjD2ukdTtQ')\n",
      "row:  ('brIH9WqEBRepq8HnZk3mig', 'Visiting from California we happened to stubble across this restaurant and what an experience. Everyone was on on deck from staff to make we were kept feed...', 5, '2019-07-15 09:24:24', 'nKjEA5nW5zm2MjD2ukdTtQ')\n",
      "row:  ('G6d_UEodWPmf9mARjH57mw', 'Short Stories is everything I want in a restaurant. They have vegan/vegetarian options but also food with meat to keep everyone happy. The dishes are unique...', 5, '2019-05-05 06:23:54', 'QsIAkIjzoAOtfgrABBe2ow')\n",
      "row:  ('5l3g2CGpF6kvfBwCePS3dQ', 'Came here for brunch\\nThe corn croquette with sweet potato is something interesting not your typical brunch menu which I enjoyed a lot! \\nWould come back for...', 4, '2019-05-25 19:30:19', 'QsIAkIjzoAOtfgrABBe2ow')\n",
      "row:  ('kMg-qQVcijyHOKtqsRsXWw', \"Great vibe and great food. \\n\\nCame here for a party didn't know the food would blow me away too.\", 5, '2019-04-18 15:05:18', 'QsIAkIjzoAOtfgrABBe2ow')\n",
      "row:  ('RALwj8Q-CekaWKo-YPi2Lw', 'Literally Venezuelan street food.\\n What venezuelan were used to eat in \"la calle del hambre\" \\nAmazing hotdogs, parilla mixta,  pepitos. Everything...', 5, '2019-06-24 11:37:31', '-g65PxVQmh3U8dKUbz1Upg')\n",
      "row:  ('b3ICoN4H6NvdVlOTMLgCJQ', \"Mother of god, I want to replace my blood with Santa Salsa's santa salsa. Our group got the La Especial burger, perricarne, santa salsa hot dog, perro con...\", 5, '2019-07-14 16:55:32', '-g65PxVQmh3U8dKUbz1Upg')\n",
      "row:  ('5nbBoKg2-TKP6Zuyf_TtGw', 'My friends live in Bushwick and suggested this place. We came around 10:30pm and it was fairly empty so we sat right away. \\n\\nThe inside is small, so I can...', 4, '2018-12-01 08:38:09', '-g65PxVQmh3U8dKUbz1Upg')\n",
      "row:  ('n8ep8a2cY2tsiJrerDMWIA', 'This is a really fun club I came here on my birthday. It was easy to get in because we had a promoter who knows my friend really well. We had a table with...', 4, '2019-05-21 10:42:32', 'VQlkJhxHoLs_wQpXr8BQuw')\n",
      "row:  ('fGWkd3je719YQHd71Ktk-g', \"Paid $1,200 for table service with friends and the people at the door wouldn't allow us all in even with a reservation before hand. They proceeded to let in...\", 1, '2019-07-19 23:08:21', 'VQlkJhxHoLs_wQpXr8BQuw')\n",
      "row:  ('WG3ZPC2-QDdQpNXAdtBlvQ', \"3.5 stars!\\n\\nWhat do you expect! Don't have to pay if you got invited by promoters on Instagram! Pretty girls with legs and boobs, will enjoy it more...\", 3, '2019-07-01 00:13:29', 'VQlkJhxHoLs_wQpXr8BQuw')\n"
     ]
    }
   ],
   "source": [
    "# Code to insert review data into DB\n",
    "# BEFPRE refactoring\n",
    "INSERT_STR = f'INSERT INTO reviews (id, text, rating, creation_date, bus_id) '\n",
    "VALUE_STR = 'VALUES (%s, %s, %s, %s, %s)'\n",
    "INSERT_QUERY = INSERT_STR + VALUE_STR\n",
    "\n",
    "#    conn = get_db_conn(config_params)\n",
    "if not db_conn:\n",
    "    print('No DB connection!')\n",
    "try:\n",
    "    cursor = db_conn.cursor()\n",
    "    for review in review_list:\n",
    "        values = tuple(review.values())\n",
    "        try:\n",
    "            cursor.execute(INSERT_QUERY, values)\n",
    "        except: # assuming bad data, but want to continue\n",
    "            print ('row: ', values)\n",
    "            continue\n",
    "\n",
    "\n",
    "finally:\n",
    "    db_conn.commit()\n",
    "    db_conn.close()\n"
   ]
  },
  {
   "cell_type": "code",
   "execution_count": null,
   "metadata": {},
   "outputs": [],
   "source": []
  },
  {
   "cell_type": "code",
   "execution_count": 125,
   "metadata": {},
   "outputs": [
    {
     "data": {
      "text/plain": [
       "<module 'config' from '/Users/markbrennan/bootcamp/nyc-mhtn-ds-071519-lectures/week-2/config.py'>"
      ]
     },
     "execution_count": 125,
     "metadata": {},
     "output_type": "execute_result"
    }
   ],
   "source": [
    "import importlib\n",
    "importlib.reload(config)"
   ]
  },
  {
   "cell_type": "code",
   "execution_count": 159,
   "metadata": {},
   "outputs": [
    {
     "data": {
      "text/plain": [
       "<module 'yelp' from '/Users/markbrennan/bootcamp/nyc-mhtn-ds-071519-lectures/week-2/yelp.py'>"
      ]
     },
     "execution_count": 159,
     "metadata": {},
     "output_type": "execute_result"
    }
   ],
   "source": [
    "importlib.reload(yelp)"
   ]
  },
  {
   "cell_type": "code",
   "execution_count": 161,
   "metadata": {},
   "outputs": [],
   "source": [
    "records = yelp.get_bus_recs(results)"
   ]
  },
  {
   "cell_type": "code",
   "execution_count": 162,
   "metadata": {},
   "outputs": [
    {
     "data": {
      "text/plain": [
       "1000"
      ]
     },
     "execution_count": 162,
     "metadata": {},
     "output_type": "execute_result"
    }
   ],
   "source": [
    "len(records)"
   ]
  },
  {
   "cell_type": "code",
   "execution_count": null,
   "metadata": {},
   "outputs": [],
   "source": []
  },
  {
   "cell_type": "code",
   "execution_count": null,
   "metadata": {},
   "outputs": [],
   "source": []
  },
  {
   "cell_type": "code",
   "execution_count": null,
   "metadata": {},
   "outputs": [],
   "source": [
    "def yelp_review_call(api_key, bus_id):\n",
    "    url = f'https://api.yelp.com/v3/businesses/{bus_id}/reviews'\n",
    "    headers = {'Authorization': 'Bearer {}'.format(api_key)}\n",
    "    \n",
    "    response = requests.get(url, headers=headers)\n",
    "    \n",
    "    return response.json()"
   ]
  },
  {
   "cell_type": "code",
   "execution_count": null,
   "metadata": {},
   "outputs": [],
   "source": [
    "reviews_all_dict = dict.fromkeys([rec['id'] for rec in records],0)\n",
    "\n",
    "for bus_id in reviews_all_dict.keys():\n",
    "    reviews_all_dict[bus_id] = yelp_review_call(config.key, bus_id)"
   ]
  },
  {
   "cell_type": "code",
   "execution_count": null,
   "metadata": {},
   "outputs": [],
   "source": []
  },
  {
   "cell_type": "code",
   "execution_count": 158,
   "metadata": {},
   "outputs": [
    {
     "data": {
      "text/plain": [
       "<module 'config' from '/Users/markbrennan/bootcamp/nyc-mhtn-ds-071519-lectures/week-2/config.py'>"
      ]
     },
     "execution_count": 158,
     "metadata": {},
     "output_type": "execute_result"
    }
   ],
   "source": [
    "importlib.reload(config)"
   ]
  },
  {
   "cell_type": "code",
   "execution_count": null,
   "metadata": {},
   "outputs": [],
   "source": [
    "yelp.get"
   ]
  },
  {
   "cell_type": "code",
   "execution_count": 128,
   "metadata": {},
   "outputs": [],
   "source": [
    "conn.close()"
   ]
  },
  {
   "cell_type": "code",
   "execution_count": 139,
   "metadata": {},
   "outputs": [
    {
     "data": {
      "text/plain": [
       "{'reviews': [{'id': 'FGHH7p9ZL40ogeMl0vPJbA',\n",
       "   'url': 'https://www.yelp.com/biz/black-iron-burger-new-york-8?adjust_creative=iA-hJdCOqADgjC47eVjdcA&hrid=FGHH7p9ZL40ogeMl0vPJbA&utm_campaign=yelp_api_v3&utm_medium=api_v3_business_reviews&utm_source=iA-hJdCOqADgjC47eVjdcA',\n",
       "   'text': 'The burger is good and the slogan is the worst slogan ever. It makes me think of the old joke What is the difference between meat and fish? If you beat your...',\n",
       "   'rating': 4,\n",
       "   'time_created': '2019-07-21 19:33:39',\n",
       "   'user': {'id': 'wCrg8GPUGMqP6fczjuM4_w',\n",
       "    'profile_url': 'https://www.yelp.com/user_details?userid=wCrg8GPUGMqP6fczjuM4_w',\n",
       "    'image_url': 'https://s3-media2.fl.yelpcdn.com/photo/mq0hgPFn0b81RI3cUuKiQQ/o.jpg',\n",
       "    'name': 'Tim C.'}},\n",
       "  {'id': '64MLXs6q4PsvcFz5PA67GA',\n",
       "   'url': 'https://www.yelp.com/biz/black-iron-burger-new-york-8?adjust_creative=iA-hJdCOqADgjC47eVjdcA&hrid=64MLXs6q4PsvcFz5PA67GA&utm_campaign=yelp_api_v3&utm_medium=api_v3_business_reviews&utm_source=iA-hJdCOqADgjC47eVjdcA',\n",
       "   'text': '100% recommend this place!!! The waiter was super nice and he recommended the meat to be cooked as medium , not medium rare. He also recommended the ai oli...',\n",
       "   'rating': 5,\n",
       "   'time_created': '2019-07-21 14:17:34',\n",
       "   'user': {'id': 'mz_2pQyQxhP-MDTvvj_xPQ',\n",
       "    'profile_url': 'https://www.yelp.com/user_details?userid=mz_2pQyQxhP-MDTvvj_xPQ',\n",
       "    'image_url': 'https://s3-media2.fl.yelpcdn.com/photo/gZKzCS4kxAVR_fy9H1y3nw/o.jpg',\n",
       "    'name': 'Misty W.'}},\n",
       "  {'id': 'uyuNd7lRw3r6MLSj9MVLzQ',\n",
       "   'url': 'https://www.yelp.com/biz/black-iron-burger-new-york-8?adjust_creative=iA-hJdCOqADgjC47eVjdcA&hrid=uyuNd7lRw3r6MLSj9MVLzQ&utm_campaign=yelp_api_v3&utm_medium=api_v3_business_reviews&utm_source=iA-hJdCOqADgjC47eVjdcA',\n",
       "   'text': 'This place was fantastic! We went for a late lunch, and everything was so good. The food came out quick and the burgers were perfectly cooked. I had the...',\n",
       "   'rating': 5,\n",
       "   'time_created': '2019-07-17 14:29:06',\n",
       "   'user': {'id': 'UmFRfYy8GnJVpUUD1VKEMQ',\n",
       "    'profile_url': 'https://www.yelp.com/user_details?userid=UmFRfYy8GnJVpUUD1VKEMQ',\n",
       "    'image_url': 'https://s3-media1.fl.yelpcdn.com/photo/kgudsfhE1b9SKXHsNFFKbw/o.jpg',\n",
       "    'name': 'Reggie W.'}}],\n",
       " 'total': 854,\n",
       " 'possible_languages': ['fr', 'en', 'nl', 'de', 'it', 'ja', 'es']}"
      ]
     },
     "execution_count": 139,
     "metadata": {},
     "output_type": "execute_result"
    }
   ],
   "source": [
    "reviews_all_dict['fgtw4swOHXEFwZpBCG05rQ']"
   ]
  },
  {
   "cell_type": "code",
   "execution_count": 135,
   "metadata": {},
   "outputs": [
    {
     "data": {
      "text/plain": [
       "{'id': 'FGHH7p9ZL40ogeMl0vPJbA',\n",
       " 'url': 'https://www.yelp.com/biz/black-iron-burger-new-york-8?adjust_creative=iA-hJdCOqADgjC47eVjdcA&hrid=FGHH7p9ZL40ogeMl0vPJbA&utm_campaign=yelp_api_v3&utm_medium=api_v3_business_reviews&utm_source=iA-hJdCOqADgjC47eVjdcA',\n",
       " 'text': 'The burger is good and the slogan is the worst slogan ever. It makes me think of the old joke What is the difference between meat and fish? If you beat your...',\n",
       " 'rating': 4,\n",
       " 'time_created': '2019-07-21 19:33:39',\n",
       " 'user': {'id': 'wCrg8GPUGMqP6fczjuM4_w',\n",
       "  'profile_url': 'https://www.yelp.com/user_details?userid=wCrg8GPUGMqP6fczjuM4_w',\n",
       "  'image_url': 'https://s3-media2.fl.yelpcdn.com/photo/mq0hgPFn0b81RI3cUuKiQQ/o.jpg',\n",
       "  'name': 'Tim C.'}}"
      ]
     },
     "execution_count": 135,
     "metadata": {},
     "output_type": "execute_result"
    }
   ],
   "source": [
    "reviews_all_dict['fgtw4swOHXEFwZpBCG05rQ']['reviews'][0]"
   ]
  },
  {
   "cell_type": "code",
   "execution_count": 136,
   "metadata": {},
   "outputs": [
    {
     "data": {
      "text/plain": [
       "'FGHH7p9ZL40ogeMl0vPJbA'"
      ]
     },
     "execution_count": 136,
     "metadata": {},
     "output_type": "execute_result"
    }
   ],
   "source": [
    "reviews_all_dict['fgtw4swOHXEFwZpBCG05rQ']['reviews'][0]['id']"
   ]
  },
  {
   "cell_type": "code",
   "execution_count": 137,
   "metadata": {},
   "outputs": [
    {
     "data": {
      "text/plain": [
       "'The burger is good and the slogan is the worst slogan ever. It makes me think of the old joke What is the difference between meat and fish? If you beat your...'"
      ]
     },
     "execution_count": 137,
     "metadata": {},
     "output_type": "execute_result"
    }
   ],
   "source": [
    "reviews_all_dict['fgtw4swOHXEFwZpBCG05rQ']['reviews'][0]['text']"
   ]
  },
  {
   "cell_type": "code",
   "execution_count": 138,
   "metadata": {},
   "outputs": [
    {
     "data": {
      "text/plain": [
       "'2019-07-21 19:33:39'"
      ]
     },
     "execution_count": 138,
     "metadata": {},
     "output_type": "execute_result"
    }
   ],
   "source": [
    "reviews_all_dict['fgtw4swOHXEFwZpBCG05rQ']['reviews'][0]['time_created']"
   ]
  },
  {
   "cell_type": "code",
   "execution_count": 284,
   "metadata": {},
   "outputs": [
    {
     "data": {
      "text/plain": [
       "<module 'yelp' from '/Users/markbrennan/bootcamp/nyc-mhtn-ds-071519-lectures/week-2/yelp.py'>"
      ]
     },
     "execution_count": 284,
     "metadata": {},
     "output_type": "execute_result"
    }
   ],
   "source": [
    "import importlib\n",
    "importlib.reload(yelp)"
   ]
  },
  {
   "cell_type": "code",
   "execution_count": 285,
   "metadata": {},
   "outputs": [
    {
     "name": "stdout",
     "output_type": "stream",
     "text": [
      "Help on function yelp_review_call in module yelp:\n",
      "\n",
      "yelp_review_call(api_key, bus_id)\n",
      "    yelp_review_call(api_key, bus_id):\n",
      "    Get the Yelp reviews for the business id\n",
      "    Params:\n",
      "        api_key: Yelp api key (from config)\n",
      "        bus_id: the business id for which to get reviews\n",
      "    Returns:\n",
      "        Json dict of reviews\n",
      "\n"
     ]
    }
   ],
   "source": [
    "help(yelp.yelp_review_call)"
   ]
  },
  {
   "cell_type": "code",
   "execution_count": 286,
   "metadata": {},
   "outputs": [
    {
     "ename": "TypeError",
     "evalue": "'int' object is not subscriptable",
     "output_type": "error",
     "traceback": [
      "\u001b[0;31m---------------------------------------------------------------------------\u001b[0m",
      "\u001b[0;31mTypeError\u001b[0m                                 Traceback (most recent call last)",
      "\u001b[0;32m<ipython-input-286-e32f483495fc>\u001b[0m in \u001b[0;36m<module>\u001b[0;34m()\u001b[0m\n\u001b[0;32m----> 1\u001b[0;31m \u001b[0mtest_reviews\u001b[0m \u001b[0;34m=\u001b[0m \u001b[0myelp\u001b[0m\u001b[0;34m.\u001b[0m\u001b[0mget_reviews\u001b[0m\u001b[0;34m(\u001b[0m\u001b[0mrecords\u001b[0m\u001b[0;34m,\u001b[0m \u001b[0mtest_lim\u001b[0m\u001b[0;34m=\u001b[0m\u001b[0;36m5\u001b[0m\u001b[0;34m)\u001b[0m\u001b[0;34m\u001b[0m\u001b[0m\n\u001b[0m",
      "\u001b[0;32m~/bootcamp/nyc-mhtn-ds-071519-lectures/week-2/yelp.py\u001b[0m in \u001b[0;36mget_reviews\u001b[0;34m(records, test_lim)\u001b[0m\n\u001b[1;32m    249\u001b[0m     \u001b[0;32mfor\u001b[0m \u001b[0mkey\u001b[0m \u001b[0;32min\u001b[0m \u001b[0mreviews_all_dict\u001b[0m\u001b[0;34m.\u001b[0m\u001b[0mkeys\u001b[0m\u001b[0;34m(\u001b[0m\u001b[0;34m)\u001b[0m\u001b[0;34m:\u001b[0m\u001b[0;34m\u001b[0m\u001b[0m\n\u001b[1;32m    250\u001b[0m         \u001b[0mbus_id\u001b[0m \u001b[0;34m=\u001b[0m \u001b[0mkey\u001b[0m\u001b[0;34m\u001b[0m\u001b[0m\n\u001b[0;32m--> 251\u001b[0;31m         \u001b[0mreviews\u001b[0m \u001b[0;34m=\u001b[0m \u001b[0mreviews_all_dict\u001b[0m\u001b[0;34m[\u001b[0m\u001b[0mkey\u001b[0m\u001b[0;34m]\u001b[0m\u001b[0;34m[\u001b[0m\u001b[0;34m'reviews'\u001b[0m\u001b[0;34m]\u001b[0m\u001b[0;34m\u001b[0m\u001b[0m\n\u001b[0m\u001b[1;32m    252\u001b[0m         \u001b[0;32mfor\u001b[0m \u001b[0mitem\u001b[0m \u001b[0;32min\u001b[0m \u001b[0mreviews\u001b[0m\u001b[0;34m:\u001b[0m\u001b[0;34m\u001b[0m\u001b[0m\n\u001b[1;32m    253\u001b[0m             review_list.append(dict(id=item['id'],\n",
      "\u001b[0;31mTypeError\u001b[0m: 'int' object is not subscriptable"
     ]
    }
   ],
   "source": [
    "test_reviews = yelp.get_reviews(records, test_lim=5)"
   ]
  },
  {
   "cell_type": "code",
   "execution_count": 290,
   "metadata": {},
   "outputs": [
    {
     "data": {
      "text/plain": [
       "[{'id': 'FGHH7p9ZL40ogeMl0vPJbA',\n",
       "  'url': 'https://www.yelp.com/biz/black-iron-burger-new-york-8?adjust_creative=iA-hJdCOqADgjC47eVjdcA&hrid=FGHH7p9ZL40ogeMl0vPJbA&utm_campaign=yelp_api_v3&utm_medium=api_v3_business_reviews&utm_source=iA-hJdCOqADgjC47eVjdcA',\n",
       "  'text': 'The burger is good and the slogan is the worst slogan ever. It makes me think of the old joke What is the difference between meat and fish? If you beat your...',\n",
       "  'rating': 4,\n",
       "  'time_created': '2019-07-21 19:33:39',\n",
       "  'user': {'id': 'wCrg8GPUGMqP6fczjuM4_w',\n",
       "   'profile_url': 'https://www.yelp.com/user_details?userid=wCrg8GPUGMqP6fczjuM4_w',\n",
       "   'image_url': 'https://s3-media2.fl.yelpcdn.com/photo/mq0hgPFn0b81RI3cUuKiQQ/o.jpg',\n",
       "   'name': 'Tim C.'}},\n",
       " {'id': '64MLXs6q4PsvcFz5PA67GA',\n",
       "  'url': 'https://www.yelp.com/biz/black-iron-burger-new-york-8?adjust_creative=iA-hJdCOqADgjC47eVjdcA&hrid=64MLXs6q4PsvcFz5PA67GA&utm_campaign=yelp_api_v3&utm_medium=api_v3_business_reviews&utm_source=iA-hJdCOqADgjC47eVjdcA',\n",
       "  'text': '100% recommend this place!!! The waiter was super nice and he recommended the meat to be cooked as medium , not medium rare. He also recommended the ai oli...',\n",
       "  'rating': 5,\n",
       "  'time_created': '2019-07-21 14:17:34',\n",
       "  'user': {'id': 'mz_2pQyQxhP-MDTvvj_xPQ',\n",
       "   'profile_url': 'https://www.yelp.com/user_details?userid=mz_2pQyQxhP-MDTvvj_xPQ',\n",
       "   'image_url': 'https://s3-media2.fl.yelpcdn.com/photo/gZKzCS4kxAVR_fy9H1y3nw/o.jpg',\n",
       "   'name': 'Misty W.'}},\n",
       " {'id': 'uyuNd7lRw3r6MLSj9MVLzQ',\n",
       "  'url': 'https://www.yelp.com/biz/black-iron-burger-new-york-8?adjust_creative=iA-hJdCOqADgjC47eVjdcA&hrid=uyuNd7lRw3r6MLSj9MVLzQ&utm_campaign=yelp_api_v3&utm_medium=api_v3_business_reviews&utm_source=iA-hJdCOqADgjC47eVjdcA',\n",
       "  'text': 'This place was fantastic! We went for a late lunch, and everything was so good. The food came out quick and the burgers were perfectly cooked. I had the...',\n",
       "  'rating': 5,\n",
       "  'time_created': '2019-07-17 14:29:06',\n",
       "  'user': {'id': 'UmFRfYy8GnJVpUUD1VKEMQ',\n",
       "   'profile_url': 'https://www.yelp.com/user_details?userid=UmFRfYy8GnJVpUUD1VKEMQ',\n",
       "   'image_url': 'https://s3-media1.fl.yelpcdn.com/photo/kgudsfhE1b9SKXHsNFFKbw/o.jpg',\n",
       "   'name': 'Reggie W.'}}]"
      ]
     },
     "execution_count": 290,
     "metadata": {},
     "output_type": "execute_result"
    }
   ],
   "source": [
    "test_reviews['fgtw4swOHXEFwZpBCG05rQ']['reviews']"
   ]
  },
  {
   "cell_type": "code",
   "execution_count": 323,
   "metadata": {},
   "outputs": [
    {
     "data": {
      "text/plain": [
       "<module 'yelp' from '/Users/markbrennan/bootcamp/nyc-mhtn-ds-071519-lectures/week-2/yelp.py'>"
      ]
     },
     "execution_count": 323,
     "metadata": {},
     "output_type": "execute_result"
    }
   ],
   "source": [
    "importlib.reload(yelp)"
   ]
  },
  {
   "cell_type": "code",
   "execution_count": null,
   "metadata": {},
   "outputs": [],
   "source": []
  },
  {
   "cell_type": "code",
   "execution_count": 324,
   "metadata": {},
   "outputs": [],
   "source": [
    "test_dict = yelp.get_reviews(records=small_recs, test_lim=5)"
   ]
  },
  {
   "cell_type": "code",
   "execution_count": 332,
   "metadata": {},
   "outputs": [
    {
     "name": "stdout",
     "output_type": "stream",
     "text": [
      "[{'id': 'FGHH7p9ZL40ogeMl0vPJbA', 'url': 'https://www.yelp.com/biz/black-iron-burger-new-york-8?adjust_creative=iA-hJdCOqADgjC47eVjdcA&hrid=FGHH7p9ZL40ogeMl0vPJbA&utm_campaign=yelp_api_v3&utm_medium=api_v3_business_reviews&utm_source=iA-hJdCOqADgjC47eVjdcA', 'text': 'The burger is good and the slogan is the worst slogan ever. It makes me think of the old joke What is the difference between meat and fish? If you beat your...', 'rating': 4, 'time_created': '2019-07-21 19:33:39', 'user': {'id': 'wCrg8GPUGMqP6fczjuM4_w', 'profile_url': 'https://www.yelp.com/user_details?userid=wCrg8GPUGMqP6fczjuM4_w', 'image_url': 'https://s3-media2.fl.yelpcdn.com/photo/mq0hgPFn0b81RI3cUuKiQQ/o.jpg', 'name': 'Tim C.'}}, {'id': '64MLXs6q4PsvcFz5PA67GA', 'url': 'https://www.yelp.com/biz/black-iron-burger-new-york-8?adjust_creative=iA-hJdCOqADgjC47eVjdcA&hrid=64MLXs6q4PsvcFz5PA67GA&utm_campaign=yelp_api_v3&utm_medium=api_v3_business_reviews&utm_source=iA-hJdCOqADgjC47eVjdcA', 'text': '100% recommend this place!!! The waiter was super nice and he recommended the meat to be cooked as medium , not medium rare. He also recommended the ai oli...', 'rating': 5, 'time_created': '2019-07-21 14:17:34', 'user': {'id': 'mz_2pQyQxhP-MDTvvj_xPQ', 'profile_url': 'https://www.yelp.com/user_details?userid=mz_2pQyQxhP-MDTvvj_xPQ', 'image_url': 'https://s3-media2.fl.yelpcdn.com/photo/gZKzCS4kxAVR_fy9H1y3nw/o.jpg', 'name': 'Misty W.'}}, {'id': 'uyuNd7lRw3r6MLSj9MVLzQ', 'url': 'https://www.yelp.com/biz/black-iron-burger-new-york-8?adjust_creative=iA-hJdCOqADgjC47eVjdcA&hrid=uyuNd7lRw3r6MLSj9MVLzQ&utm_campaign=yelp_api_v3&utm_medium=api_v3_business_reviews&utm_source=iA-hJdCOqADgjC47eVjdcA', 'text': 'This place was fantastic! We went for a late lunch, and everything was so good. The food came out quick and the burgers were perfectly cooked. I had the...', 'rating': 5, 'time_created': '2019-07-17 14:29:06', 'user': {'id': 'UmFRfYy8GnJVpUUD1VKEMQ', 'profile_url': 'https://www.yelp.com/user_details?userid=UmFRfYy8GnJVpUUD1VKEMQ', 'image_url': 'https://s3-media1.fl.yelpcdn.com/photo/kgudsfhE1b9SKXHsNFFKbw/o.jpg', 'name': 'Reggie W.'}}]\n",
      "[{'id': 'BMDJMyzKTCoGDOBGr5b6KQ', 'url': 'https://www.yelp.com/biz/black-tap-craft-burgers-and-beer-new-york-7?adjust_creative=iA-hJdCOqADgjC47eVjdcA&hrid=BMDJMyzKTCoGDOBGr5b6KQ&utm_campaign=yelp_api_v3&utm_medium=api_v3_business_reviews&utm_source=iA-hJdCOqADgjC47eVjdcA', 'text': 'Visited NYC with my daughter, and she wanted to have a shake here. First night we went it was full with a really long line outside. Went the next day in the...', 'rating': 5, 'time_created': '2019-07-18 14:25:54', 'user': {'id': 'ep_-oaf19-ccVffBucuvvA', 'profile_url': 'https://www.yelp.com/user_details?userid=ep_-oaf19-ccVffBucuvvA', 'image_url': 'https://s3-media3.fl.yelpcdn.com/photo/OVeBCL185NUJtq85ToiX7Q/o.jpg', 'name': 'Omar D.'}}, {'id': 'Y0qNbYn0sSIzX9wIthZYxg', 'url': 'https://www.yelp.com/biz/black-tap-craft-burgers-and-beer-new-york-7?adjust_creative=iA-hJdCOqADgjC47eVjdcA&hrid=Y0qNbYn0sSIzX9wIthZYxg&utm_campaign=yelp_api_v3&utm_medium=api_v3_business_reviews&utm_source=iA-hJdCOqADgjC47eVjdcA', 'text': \"My first visit to Black Tap. It was my daughter's second. She selected this restaurant for her birthday lunch. I'm sure it's all about the milkshakes....\", 'rating': 3, 'time_created': '2019-07-24 16:47:13', 'user': {'id': 'Kf5PVQUdDvQYf-MXoeWqZA', 'profile_url': 'https://www.yelp.com/user_details?userid=Kf5PVQUdDvQYf-MXoeWqZA', 'image_url': 'https://s3-media3.fl.yelpcdn.com/photo/uG1vQ4yqnvlqm1hdVznpGA/o.jpg', 'name': 'Marianne W.'}}, {'id': 'tZKUnw8JfXjHaLbX3wLLEw', 'url': 'https://www.yelp.com/biz/black-tap-craft-burgers-and-beer-new-york-7?adjust_creative=iA-hJdCOqADgjC47eVjdcA&hrid=tZKUnw8JfXjHaLbX3wLLEw&utm_campaign=yelp_api_v3&utm_medium=api_v3_business_reviews&utm_source=iA-hJdCOqADgjC47eVjdcA', 'text': 'Ate here July 5 at the bar. \\nWe got Korean wings with a really horrible tasting \"Korean\" sauce . Very disappointing as everyone speaks so highly of the...', 'rating': 1, 'time_created': '2019-07-22 13:16:55', 'user': {'id': 'HN7bO0qRGn6xVwcvumlDxA', 'profile_url': 'https://www.yelp.com/user_details?userid=HN7bO0qRGn6xVwcvumlDxA', 'image_url': 'https://s3-media3.fl.yelpcdn.com/photo/W3jiCh1jDvEMzS5w9tg7Xg/o.jpg', 'name': 'Liezel T.'}}]\n",
      "[{'id': 'WR5QVkDrSr-WVMS3GVQsnQ', 'url': 'https://www.yelp.com/biz/burger-and-lobster-new-york-4?adjust_creative=iA-hJdCOqADgjC47eVjdcA&hrid=WR5QVkDrSr-WVMS3GVQsnQ&utm_campaign=yelp_api_v3&utm_medium=api_v3_business_reviews&utm_source=iA-hJdCOqADgjC47eVjdcA', 'text': \"We love coming here! We usually do a glass (or 2, or 3) of wine and split the Combo for 1. I don't usually do lobster so I'm the one getting the burger and...\", 'rating': 5, 'time_created': '2019-07-18 14:52:03', 'user': {'id': 'z7NaErnl9xjbcPLo3Q8Ljg', 'profile_url': 'https://www.yelp.com/user_details?userid=z7NaErnl9xjbcPLo3Q8Ljg', 'image_url': 'https://s3-media3.fl.yelpcdn.com/photo/sCvFQ0exHrzjGatFagOvcg/o.jpg', 'name': 'Dylan I.'}}, {'id': 'U3EPseOxhaq_JziXDv-i1w', 'url': 'https://www.yelp.com/biz/burger-and-lobster-new-york-4?adjust_creative=iA-hJdCOqADgjC47eVjdcA&hrid=U3EPseOxhaq_JziXDv-i1w&utm_campaign=yelp_api_v3&utm_medium=api_v3_business_reviews&utm_source=iA-hJdCOqADgjC47eVjdcA', 'text': \"I only come here for the lobster rolls.. Never tried the burger or lobster option. \\n\\nSince they've opened, this is my favorite spot for lobster rolls. The...\", 'rating': 4, 'time_created': '2019-07-15 20:32:06', 'user': {'id': 'fuafSl0Vm7G8lVwE1xa1Dg', 'profile_url': 'https://www.yelp.com/user_details?userid=fuafSl0Vm7G8lVwE1xa1Dg', 'image_url': 'https://s3-media3.fl.yelpcdn.com/photo/piX8iM3geXggUwM_zJAZKA/o.jpg', 'name': 'Stanley E.'}}, {'id': 'YJ7uzB55jYFmRWRaKDItzw', 'url': 'https://www.yelp.com/biz/burger-and-lobster-new-york-4?adjust_creative=iA-hJdCOqADgjC47eVjdcA&hrid=YJ7uzB55jYFmRWRaKDItzw&utm_campaign=yelp_api_v3&utm_medium=api_v3_business_reviews&utm_source=iA-hJdCOqADgjC47eVjdcA', 'text': \"It's just a cool place!! Love the food and the ambiance. I would recommend it for a date or girlfriend's night.\\nIt's packed in the evening, but once you get...\", 'rating': 4, 'time_created': '2019-07-11 15:26:31', 'user': {'id': 'dn-5jv6_YTV6UkumMe13VQ', 'profile_url': 'https://www.yelp.com/user_details?userid=dn-5jv6_YTV6UkumMe13VQ', 'image_url': 'https://s3-media1.fl.yelpcdn.com/photo/sjAwQlC8REhb2V0iSrqpiA/o.jpg', 'name': 'Natacha C.'}}]\n",
      "[{'id': 'NvbMBPhbiUHLQwz4Ex4Y3Q', 'url': 'https://www.yelp.com/biz/bensons-nyc-new-york?adjust_creative=iA-hJdCOqADgjC47eVjdcA&hrid=NvbMBPhbiUHLQwz4Ex4Y3Q&utm_campaign=yelp_api_v3&utm_medium=api_v3_business_reviews&utm_source=iA-hJdCOqADgjC47eVjdcA', 'text': \"I went here to watch the second half of the Women's World Cup just looking for a seat and TV, but I was pleasantly surprised with Benson's! There was only...\", 'rating': 5, 'time_created': '2019-07-14 12:37:03', 'user': {'id': 'zkzgAvEe_jv9j3EAIYVliA', 'profile_url': 'https://www.yelp.com/user_details?userid=zkzgAvEe_jv9j3EAIYVliA', 'image_url': 'https://s3-media4.fl.yelpcdn.com/photo/Ibkfd18dt3U575pkoJzxfA/o.jpg', 'name': 'Nicole S.'}}, {'id': 't_aH_6_QrBloYa7rXjF_4w', 'url': 'https://www.yelp.com/biz/bensons-nyc-new-york?adjust_creative=iA-hJdCOqADgjC47eVjdcA&hrid=t_aH_6_QrBloYa7rXjF_4w&utm_campaign=yelp_api_v3&utm_medium=api_v3_business_reviews&utm_source=iA-hJdCOqADgjC47eVjdcA', 'text': \"I was like on step 13,333 and well deserved the burger, fries, and glass of pop.\\n\\nI don't eat meat often, but I will say that the ( burger) was so fresh and...\", 'rating': 4, 'time_created': '2019-06-27 22:18:35', 'user': {'id': '0uTFSnod-OBoV5kkYYTBTg', 'profile_url': 'https://www.yelp.com/user_details?userid=0uTFSnod-OBoV5kkYYTBTg', 'image_url': 'https://s3-media2.fl.yelpcdn.com/photo/pxr1uLWNWSpCqReG0TdC1Q/o.jpg', 'name': 'Theresa L.'}}, {'id': '4VjR4BgB-RXWLp-Rld24Bg', 'url': 'https://www.yelp.com/biz/bensons-nyc-new-york?adjust_creative=iA-hJdCOqADgjC47eVjdcA&hrid=4VjR4BgB-RXWLp-Rld24Bg&utm_campaign=yelp_api_v3&utm_medium=api_v3_business_reviews&utm_source=iA-hJdCOqADgjC47eVjdcA', 'text': \"Have mixed opinions on Benson's, food was good (not sure it was worth the price), but service seemed fragmented as the waiter didn't know the menu and...\", 'rating': 3, 'time_created': '2019-06-16 06:34:42', 'user': {'id': 'STzFNXw1zNuzUUSBDoUDrw', 'profile_url': 'https://www.yelp.com/user_details?userid=STzFNXw1zNuzUUSBDoUDrw', 'image_url': 'https://s3-media3.fl.yelpcdn.com/photo/VBCvycXq8judvZYPYD5raQ/o.jpg', 'name': 'Kyle S.'}}]\n",
      "[{'id': '3oWtyTzNJkEDBN8usrGAJg', 'url': 'https://www.yelp.com/biz/burger-and-lobster-new-york-5?adjust_creative=iA-hJdCOqADgjC47eVjdcA&hrid=3oWtyTzNJkEDBN8usrGAJg&utm_campaign=yelp_api_v3&utm_medium=api_v3_business_reviews&utm_source=iA-hJdCOqADgjC47eVjdcA', 'text': 'Incredible lobster burger!  This restaurant takes burgers to a whole new level. A delicious medium rare beef burger with Swiss cheese, truffle aioli, fresh...', 'rating': 5, 'time_created': '2019-07-21 11:00:34', 'user': {'id': 'DOYhMLzFuqNu33LOIj9ClQ', 'profile_url': 'https://www.yelp.com/user_details?userid=DOYhMLzFuqNu33LOIj9ClQ', 'image_url': 'https://s3-media1.fl.yelpcdn.com/photo/_K8vIEQWi6a5QFDCdqVRzw/o.jpg', 'name': 'Ashley H.'}}, {'id': 'ZYLwokXAosNGkrob9eSmvw', 'url': 'https://www.yelp.com/biz/burger-and-lobster-new-york-5?adjust_creative=iA-hJdCOqADgjC47eVjdcA&hrid=ZYLwokXAosNGkrob9eSmvw&utm_campaign=yelp_api_v3&utm_medium=api_v3_business_reviews&utm_source=iA-hJdCOqADgjC47eVjdcA', 'text': 'Hostess:0 ( straight hair girl give a HORRIBLE service )\\nFood: 1 ( The Beast) overrated \\nWaitress: 3\\nSo literally this review was saved for the waitress...', 'rating': 3, 'time_created': '2019-07-25 18:20:37', 'user': {'id': '_8H9fuhoBrnId1BFoYjIAA', 'profile_url': 'https://www.yelp.com/user_details?userid=_8H9fuhoBrnId1BFoYjIAA', 'image_url': 'https://s3-media3.fl.yelpcdn.com/photo/x2fAQOVCrZRk9DA0K1DMXQ/o.jpg', 'name': 'Vanessa R.'}}, {'id': '0Ly8kWJ1Cg28jO-t8hZuSg', 'url': 'https://www.yelp.com/biz/burger-and-lobster-new-york-5?adjust_creative=iA-hJdCOqADgjC47eVjdcA&hrid=0Ly8kWJ1Cg28jO-t8hZuSg&utm_campaign=yelp_api_v3&utm_medium=api_v3_business_reviews&utm_source=iA-hJdCOqADgjC47eVjdcA', 'text': \"It was really good, exactly as advertised. If it were right in my town, I'd give it 5 stars, but because it's an international chain I'll be a bit more...\", 'rating': 4, 'time_created': '2019-07-20 18:56:11', 'user': {'id': 'GYqy3PDuRYQGgxCk6lXEMA', 'profile_url': 'https://www.yelp.com/user_details?userid=GYqy3PDuRYQGgxCk6lXEMA', 'image_url': 'https://s3-media3.fl.yelpcdn.com/photo/r3iX3Yn7tgeZ1gBFEQ3lmQ/o.jpg', 'name': 'Rick R.'}}]\n",
      "[{'id': 'QKCb5LABEwX79aXhh3RDSA', 'url': 'https://www.yelp.com/biz/the-burgary-new-york?adjust_creative=iA-hJdCOqADgjC47eVjdcA&hrid=QKCb5LABEwX79aXhh3RDSA&utm_campaign=yelp_api_v3&utm_medium=api_v3_business_reviews&utm_source=iA-hJdCOqADgjC47eVjdcA', 'text': 'This place perfectly fuses a divey-atmosphere with the eloquence of an artisanal restaurant. I stopped in here after work and this place is awesome. The...', 'rating': 5, 'time_created': '2019-06-02 19:49:48', 'user': {'id': 'QAgfzw4KYDTJ4xji5ynHQQ', 'profile_url': 'https://www.yelp.com/user_details?userid=QAgfzw4KYDTJ4xji5ynHQQ', 'image_url': 'https://s3-media2.fl.yelpcdn.com/photo/SMHXBDXay-U5cKV1PlM5Ig/o.jpg', 'name': 'Antoine G.'}}, {'id': 'a5xk9ebcqrCI4m4N1Hv0tQ', 'url': 'https://www.yelp.com/biz/the-burgary-new-york?adjust_creative=iA-hJdCOqADgjC47eVjdcA&hrid=a5xk9ebcqrCI4m4N1Hv0tQ&utm_campaign=yelp_api_v3&utm_medium=api_v3_business_reviews&utm_source=iA-hJdCOqADgjC47eVjdcA', 'text': 'I came here the other night for dinner with a few friends. I came in and sat at the bar, the service was fantastic! The bartender gave us enough time to...', 'rating': 4, 'time_created': '2019-07-04 18:09:52', 'user': {'id': 'y4xF0F9wKfarJVJ-f3MhZg', 'profile_url': 'https://www.yelp.com/user_details?userid=y4xF0F9wKfarJVJ-f3MhZg', 'image_url': 'https://s3-media2.fl.yelpcdn.com/photo/laYMMnW-gWR8bOSUIK6XZA/o.jpg', 'name': 'Shaima C.'}}, {'id': 'ayOnQx9iAYEdkVf9jWwAvw', 'url': 'https://www.yelp.com/biz/the-burgary-new-york?adjust_creative=iA-hJdCOqADgjC47eVjdcA&hrid=ayOnQx9iAYEdkVf9jWwAvw&utm_campaign=yelp_api_v3&utm_medium=api_v3_business_reviews&utm_source=iA-hJdCOqADgjC47eVjdcA', 'text': 'Cartoon mural on a exposed brick wall and as the name suggest, the Burgary serves a variety of burgers. Pretty clever right? LOL\\n\\nThis spot is pretty much a...', 'rating': 4, 'time_created': '2019-06-13 11:02:16', 'user': {'id': 'wkuI-9N8quIMsTejUe6Ndw', 'profile_url': 'https://www.yelp.com/user_details?userid=wkuI-9N8quIMsTejUe6Ndw', 'image_url': 'https://s3-media2.fl.yelpcdn.com/photo/CT6wI1NTc01xHjy1_vkEaA/o.jpg', 'name': 'G P.'}}]\n"
     ]
    },
    {
     "ename": "AttributeError",
     "evalue": "'int' object has no attribute 'get'",
     "output_type": "error",
     "traceback": [
      "\u001b[0;31m---------------------------------------------------------------------------\u001b[0m",
      "\u001b[0;31mAttributeError\u001b[0m                            Traceback (most recent call last)",
      "\u001b[0;32m<ipython-input-332-8e905dc8ad31>\u001b[0m in \u001b[0;36m<module>\u001b[0;34m()\u001b[0m\n\u001b[1;32m      1\u001b[0m \u001b[0;32mfor\u001b[0m \u001b[0mi\u001b[0m \u001b[0;32min\u001b[0m \u001b[0mtest_dict\u001b[0m\u001b[0;34m.\u001b[0m\u001b[0mkeys\u001b[0m\u001b[0;34m(\u001b[0m\u001b[0;34m)\u001b[0m\u001b[0;34m:\u001b[0m\u001b[0;34m\u001b[0m\u001b[0m\n\u001b[0;32m----> 2\u001b[0;31m     \u001b[0mprint\u001b[0m\u001b[0;34m(\u001b[0m\u001b[0mtest_dict\u001b[0m\u001b[0;34m[\u001b[0m\u001b[0mi\u001b[0m\u001b[0;34m]\u001b[0m\u001b[0;34m.\u001b[0m\u001b[0mget\u001b[0m\u001b[0;34m(\u001b[0m\u001b[0;34m'reviews'\u001b[0m\u001b[0;34m)\u001b[0m\u001b[0;34m)\u001b[0m\u001b[0;34m\u001b[0m\u001b[0m\n\u001b[0m",
      "\u001b[0;31mAttributeError\u001b[0m: 'int' object has no attribute 'get'"
     ]
    }
   ],
   "source": [
    "for i in test_dict.keys():\n",
    "    print(test_dict[i].get('reviews'))"
   ]
  },
  {
   "cell_type": "code",
   "execution_count": 291,
   "metadata": {},
   "outputs": [],
   "source": [
    "def get_reviews(records, test_lim=None):\n",
    "    \"\"\"get_reviews(records):\n",
    "    Get our Yelp reviews from the restuarant records\n",
    "    Params:\n",
    "        Records: Restaurant records containing business IDs\n",
    "    Returns:\n",
    "        reviews: list of review dicts\n",
    "    \"\"\"\n",
    "\n",
    "    limit = True if test_lim else False\n",
    "    lim_count = test_lim if test_lim else 0\n",
    "    iter_count = 0\n",
    "\n",
    "    reviews_all_dict = dict.fromkeys([rec['id'] for rec in records], 0)\n",
    "\n",
    "    for bus_id in reviews_all_dict.keys():\n",
    "        if not limit:\n",
    "            reviews_all_dict[bus_id] = yelp_review_call(config.key, bus_id)\n",
    "        else:\n",
    "            if iter_count <= lim_count:\n",
    "                reviews_all_dict[bus_id] = yelp_review_call(config.key, bus_id)\n",
    "                iter_count += 1\n",
    "\n",
    "    review_list = []\n",
    "    for key in reviews_all_dict.keys():\n",
    "        bus_id = key\n",
    "        reviews = reviews_all_dict[key]['reviews']\n",
    "        for item in reviews:\n",
    "            review_list.append(dict(id=item['id'],\n",
    "                text=item['text'],\n",
    "                rating=item['rating'],\n",
    "                creation_dt=item['time_created'],\n",
    "                bus_id=bus_id))\n",
    "\n",
    "    return review_list\n"
   ]
  },
  {
   "cell_type": "code",
   "execution_count": 309,
   "metadata": {},
   "outputs": [],
   "source": [
    "reviews_all_dict = dict.fromkeys([rec['id'] for rec in small_recs], 0)"
   ]
  },
  {
   "cell_type": "code",
   "execution_count": 312,
   "metadata": {},
   "outputs": [],
   "source": [
    "reviews_all_dict['fgtw4swOHXEFwZpBCG05rQ'] = yelp_review_call(config.key, 'fgtw4swOHXEFwZpBCG05rQ')"
   ]
  },
  {
   "cell_type": "code",
   "execution_count": 320,
   "metadata": {},
   "outputs": [
    {
     "name": "stdout",
     "output_type": "stream",
     "text": [
      "fgtw4swOHXEFwZpBCG05rQ\n",
      "{'reviews': [{'id': 'FGHH7p9ZL40ogeMl0vPJbA', 'url': 'https://www.yelp.com/biz/black-iron-burger-new-york-8?adjust_creative=iA-hJdCOqADgjC47eVjdcA&hrid=FGHH7p9ZL40ogeMl0vPJbA&utm_campaign=yelp_api_v3&utm_medium=api_v3_business_reviews&utm_source=iA-hJdCOqADgjC47eVjdcA', 'text': 'The burger is good and the slogan is the worst slogan ever. It makes me think of the old joke What is the difference between meat and fish? If you beat your...', 'rating': 4, 'time_created': '2019-07-21 19:33:39', 'user': {'id': 'wCrg8GPUGMqP6fczjuM4_w', 'profile_url': 'https://www.yelp.com/user_details?userid=wCrg8GPUGMqP6fczjuM4_w', 'image_url': 'https://s3-media2.fl.yelpcdn.com/photo/mq0hgPFn0b81RI3cUuKiQQ/o.jpg', 'name': 'Tim C.'}}, {'id': '64MLXs6q4PsvcFz5PA67GA', 'url': 'https://www.yelp.com/biz/black-iron-burger-new-york-8?adjust_creative=iA-hJdCOqADgjC47eVjdcA&hrid=64MLXs6q4PsvcFz5PA67GA&utm_campaign=yelp_api_v3&utm_medium=api_v3_business_reviews&utm_source=iA-hJdCOqADgjC47eVjdcA', 'text': '100% recommend this place!!! The waiter was super nice and he recommended the meat to be cooked as medium , not medium rare. He also recommended the ai oli...', 'rating': 5, 'time_created': '2019-07-21 14:17:34', 'user': {'id': 'mz_2pQyQxhP-MDTvvj_xPQ', 'profile_url': 'https://www.yelp.com/user_details?userid=mz_2pQyQxhP-MDTvvj_xPQ', 'image_url': 'https://s3-media2.fl.yelpcdn.com/photo/gZKzCS4kxAVR_fy9H1y3nw/o.jpg', 'name': 'Misty W.'}}, {'id': 'uyuNd7lRw3r6MLSj9MVLzQ', 'url': 'https://www.yelp.com/biz/black-iron-burger-new-york-8?adjust_creative=iA-hJdCOqADgjC47eVjdcA&hrid=uyuNd7lRw3r6MLSj9MVLzQ&utm_campaign=yelp_api_v3&utm_medium=api_v3_business_reviews&utm_source=iA-hJdCOqADgjC47eVjdcA', 'text': 'This place was fantastic! We went for a late lunch, and everything was so good. The food came out quick and the burgers were perfectly cooked. I had the...', 'rating': 5, 'time_created': '2019-07-17 14:29:06', 'user': {'id': 'UmFRfYy8GnJVpUUD1VKEMQ', 'profile_url': 'https://www.yelp.com/user_details?userid=UmFRfYy8GnJVpUUD1VKEMQ', 'image_url': 'https://s3-media1.fl.yelpcdn.com/photo/kgudsfhE1b9SKXHsNFFKbw/o.jpg', 'name': 'Reggie W.'}}], 'total': 854, 'possible_languages': ['fr', 'en', 'nl', 'de', 'it', 'ja', 'es']}\n",
      "yZs_A8r0qDz7Z5bR0C-aiQ\n",
      "0\n",
      "UA2M9QFZghe-9th2KwLoWQ\n",
      "0\n",
      "x7hsZRd_MyrUgAW91FM9qA\n",
      "0\n",
      "YtXl15Nv7TZvV3yIqbZc8A\n",
      "0\n",
      "uYLIo8FCr9Ug5SFORDdsPA\n",
      "0\n",
      "6qcydPo5eTSB4XHyyZDvkA\n",
      "0\n",
      "8mmM20X369_Do04kW7-TTA\n",
      "0\n",
      "6MgQz0SEOYUih2N5JOa6rg\n",
      "0\n",
      "veku2cg2qaV-7MxwhOMBmg\n",
      "0\n",
      "XxLGYdB0s8IkZ9QZtGKBZA\n",
      "0\n",
      "OBx6NwNScuENCclIK8H5Ow\n",
      "0\n",
      "yk8j4W34Cy4K6uy9Btkf9Q\n",
      "0\n",
      "MfbVI5reXLIIs8Cc2HwgQw\n",
      "0\n",
      "m86CNmYThtzzWB3nPnrhbg\n",
      "0\n",
      "FWjl6BrMie6H78OSWJG5Pg\n",
      "0\n",
      "qOp4T7UxfL6MgO41dN3Qlg\n",
      "0\n",
      "x2ATnp8-hXFhr_XznPYPMw\n",
      "0\n",
      "4YeKYQoZHCx2xkbjmNhMbA\n",
      "0\n",
      "YrqwvI1qjgzIn8kdPKZbwg\n",
      "0\n",
      "sVG1whNWHhlbjP6p027YcA\n",
      "0\n",
      "xjXNnWVxDamvU1L9f6CgPw\n",
      "0\n",
      "vqACcpFt4s46mXSP6a4RNw\n",
      "0\n",
      "PYmjoid5P-Mw8dkkKxZy6w\n",
      "0\n",
      "92m23CB9r9XrPFK7_7-SmQ\n",
      "0\n",
      "hGo9KArKThuOKxNbwmNpoA\n",
      "0\n",
      "O2Wf9JozX-Av2SOV6EvmNw\n",
      "0\n",
      "FCqKzOUM6DAxjU_xkXdhzg\n",
      "0\n",
      "I9ScToNzfcM8mS8GpG8sTg\n",
      "0\n",
      "DIxCBcbfu0ABFnm4SNk5OQ\n",
      "0\n",
      "bL6gcUWgFt7mOZYT_FaGSg\n",
      "0\n",
      "FxXkE0pjKQqeFZMToYRwdg\n",
      "0\n",
      "fAe8n5o-haxmSvEaHSQ9wQ\n",
      "0\n",
      "t4hGjbQaZtBqDAEoqdCJoA\n",
      "0\n",
      "tf3RVircY9-8adku41N6VQ\n",
      "0\n",
      "dkAj-3gmkvdA4XkJmw6hCw\n",
      "0\n",
      "nMWqlWid2YfDeutioit_0w\n",
      "0\n",
      "3axYlGbF2M-rHjz0uhKFcg\n",
      "0\n",
      "NgPXeIWQicIXxjxSlGXvjA\n",
      "0\n",
      "IGZkGbwE36iE1yaDW5NNKA\n",
      "0\n",
      "mZE91iNgAJhm7r1eWGqaEQ\n",
      "0\n",
      "DW5SL9RM-kJnmRyYo4oEqg\n",
      "0\n",
      "z5hRX3iJ5Ty_S38iG_WY3Q\n",
      "0\n",
      "yy8jf3cnbXG4KOLGNJVfig\n",
      "0\n",
      "54SrQVVhGcvfuIkFabQ8KQ\n",
      "0\n",
      "zHh6ioC3tSXBFhXXuXrL8A\n",
      "0\n",
      "U5hCNNyJmb7f3dmC1HTzSQ\n",
      "0\n",
      "1wcPwByfVs7bh7W1dWWIIQ\n",
      "0\n",
      "XEcN3K7gIu4yC8wGB4zPjw\n",
      "0\n",
      "51_f1MyuRFpEIpzb57YmEA\n",
      "0\n",
      "[{'id': 'FGHH7p9ZL40ogeMl0vPJbA', 'url': 'https://www.yelp.com/biz/black-iron-burger-new-york-8?adjust_creative=iA-hJdCOqADgjC47eVjdcA&hrid=FGHH7p9ZL40ogeMl0vPJbA&utm_campaign=yelp_api_v3&utm_medium=api_v3_business_reviews&utm_source=iA-hJdCOqADgjC47eVjdcA', 'text': 'The burger is good and the slogan is the worst slogan ever. It makes me think of the old joke What is the difference between meat and fish? If you beat your...', 'rating': 4, 'time_created': '2019-07-21 19:33:39', 'user': {'id': 'wCrg8GPUGMqP6fczjuM4_w', 'profile_url': 'https://www.yelp.com/user_details?userid=wCrg8GPUGMqP6fczjuM4_w', 'image_url': 'https://s3-media2.fl.yelpcdn.com/photo/mq0hgPFn0b81RI3cUuKiQQ/o.jpg', 'name': 'Tim C.'}}, {'id': '64MLXs6q4PsvcFz5PA67GA', 'url': 'https://www.yelp.com/biz/black-iron-burger-new-york-8?adjust_creative=iA-hJdCOqADgjC47eVjdcA&hrid=64MLXs6q4PsvcFz5PA67GA&utm_campaign=yelp_api_v3&utm_medium=api_v3_business_reviews&utm_source=iA-hJdCOqADgjC47eVjdcA', 'text': '100% recommend this place!!! The waiter was super nice and he recommended the meat to be cooked as medium , not medium rare. He also recommended the ai oli...', 'rating': 5, 'time_created': '2019-07-21 14:17:34', 'user': {'id': 'mz_2pQyQxhP-MDTvvj_xPQ', 'profile_url': 'https://www.yelp.com/user_details?userid=mz_2pQyQxhP-MDTvvj_xPQ', 'image_url': 'https://s3-media2.fl.yelpcdn.com/photo/gZKzCS4kxAVR_fy9H1y3nw/o.jpg', 'name': 'Misty W.'}}, {'id': 'uyuNd7lRw3r6MLSj9MVLzQ', 'url': 'https://www.yelp.com/biz/black-iron-burger-new-york-8?adjust_creative=iA-hJdCOqADgjC47eVjdcA&hrid=uyuNd7lRw3r6MLSj9MVLzQ&utm_campaign=yelp_api_v3&utm_medium=api_v3_business_reviews&utm_source=iA-hJdCOqADgjC47eVjdcA', 'text': 'This place was fantastic! We went for a late lunch, and everything was so good. The food came out quick and the burgers were perfectly cooked. I had the...', 'rating': 5, 'time_created': '2019-07-17 14:29:06', 'user': {'id': 'UmFRfYy8GnJVpUUD1VKEMQ', 'profile_url': 'https://www.yelp.com/user_details?userid=UmFRfYy8GnJVpUUD1VKEMQ', 'image_url': 'https://s3-media1.fl.yelpcdn.com/photo/kgudsfhE1b9SKXHsNFFKbw/o.jpg', 'name': 'Reggie W.'}}]\n"
     ]
    }
   ],
   "source": [
    "for key in reviews_all_dict.keys():\n",
    "    print(key)\n",
    "    print(reviews_all_dict[key])\n",
    "\n",
    "print(reviews_all_dict['fgtw4swOHXEFwZpBCG05rQ']['reviews'])"
   ]
  },
  {
   "cell_type": "code",
   "execution_count": 314,
   "metadata": {},
   "outputs": [
    {
     "data": {
      "text/plain": [
       "[{'id': 'FGHH7p9ZL40ogeMl0vPJbA',\n",
       "  'url': 'https://www.yelp.com/biz/black-iron-burger-new-york-8?adjust_creative=iA-hJdCOqADgjC47eVjdcA&hrid=FGHH7p9ZL40ogeMl0vPJbA&utm_campaign=yelp_api_v3&utm_medium=api_v3_business_reviews&utm_source=iA-hJdCOqADgjC47eVjdcA',\n",
       "  'text': 'The burger is good and the slogan is the worst slogan ever. It makes me think of the old joke What is the difference between meat and fish? If you beat your...',\n",
       "  'rating': 4,\n",
       "  'time_created': '2019-07-21 19:33:39',\n",
       "  'user': {'id': 'wCrg8GPUGMqP6fczjuM4_w',\n",
       "   'profile_url': 'https://www.yelp.com/user_details?userid=wCrg8GPUGMqP6fczjuM4_w',\n",
       "   'image_url': 'https://s3-media2.fl.yelpcdn.com/photo/mq0hgPFn0b81RI3cUuKiQQ/o.jpg',\n",
       "   'name': 'Tim C.'}},\n",
       " {'id': '64MLXs6q4PsvcFz5PA67GA',\n",
       "  'url': 'https://www.yelp.com/biz/black-iron-burger-new-york-8?adjust_creative=iA-hJdCOqADgjC47eVjdcA&hrid=64MLXs6q4PsvcFz5PA67GA&utm_campaign=yelp_api_v3&utm_medium=api_v3_business_reviews&utm_source=iA-hJdCOqADgjC47eVjdcA',\n",
       "  'text': '100% recommend this place!!! The waiter was super nice and he recommended the meat to be cooked as medium , not medium rare. He also recommended the ai oli...',\n",
       "  'rating': 5,\n",
       "  'time_created': '2019-07-21 14:17:34',\n",
       "  'user': {'id': 'mz_2pQyQxhP-MDTvvj_xPQ',\n",
       "   'profile_url': 'https://www.yelp.com/user_details?userid=mz_2pQyQxhP-MDTvvj_xPQ',\n",
       "   'image_url': 'https://s3-media2.fl.yelpcdn.com/photo/gZKzCS4kxAVR_fy9H1y3nw/o.jpg',\n",
       "   'name': 'Misty W.'}},\n",
       " {'id': 'uyuNd7lRw3r6MLSj9MVLzQ',\n",
       "  'url': 'https://www.yelp.com/biz/black-iron-burger-new-york-8?adjust_creative=iA-hJdCOqADgjC47eVjdcA&hrid=uyuNd7lRw3r6MLSj9MVLzQ&utm_campaign=yelp_api_v3&utm_medium=api_v3_business_reviews&utm_source=iA-hJdCOqADgjC47eVjdcA',\n",
       "  'text': 'This place was fantastic! We went for a late lunch, and everything was so good. The food came out quick and the burgers were perfectly cooked. I had the...',\n",
       "  'rating': 5,\n",
       "  'time_created': '2019-07-17 14:29:06',\n",
       "  'user': {'id': 'UmFRfYy8GnJVpUUD1VKEMQ',\n",
       "   'profile_url': 'https://www.yelp.com/user_details?userid=UmFRfYy8GnJVpUUD1VKEMQ',\n",
       "   'image_url': 'https://s3-media1.fl.yelpcdn.com/photo/kgudsfhE1b9SKXHsNFFKbw/o.jpg',\n",
       "   'name': 'Reggie W.'}}]"
      ]
     },
     "execution_count": 314,
     "metadata": {},
     "output_type": "execute_result"
    }
   ],
   "source": [
    "reviews_all_dict['fgtw4swOHXEFwZpBCG05rQ']['reviews']"
   ]
  },
  {
   "cell_type": "code",
   "execution_count": 293,
   "metadata": {},
   "outputs": [
    {
     "data": {
      "text/plain": [
       "1000"
      ]
     },
     "execution_count": 293,
     "metadata": {},
     "output_type": "execute_result"
    }
   ],
   "source": [
    "len(records)"
   ]
  },
  {
   "cell_type": "code",
   "execution_count": 305,
   "metadata": {},
   "outputs": [],
   "source": [
    "small_recs = records[0:50]"
   ]
  },
  {
   "cell_type": "code",
   "execution_count": null,
   "metadata": {},
   "outputs": [],
   "source": []
  },
  {
   "cell_type": "code",
   "execution_count": null,
   "metadata": {},
   "outputs": [],
   "source": []
  },
  {
   "cell_type": "code",
   "execution_count": null,
   "metadata": {},
   "outputs": [],
   "source": []
  },
  {
   "cell_type": "code",
   "execution_count": 306,
   "metadata": {},
   "outputs": [
    {
     "data": {
      "text/plain": [
       "50"
      ]
     },
     "execution_count": 306,
     "metadata": {},
     "output_type": "execute_result"
    }
   ],
   "source": [
    "len(small_recs)"
   ]
  },
  {
   "cell_type": "code",
   "execution_count": 297,
   "metadata": {},
   "outputs": [
    {
     "data": {
      "text/plain": [
       "{'id': 'fgtw4swOHXEFwZpBCG05rQ',\n",
       " 'name': 'Black Iron Burger',\n",
       " 'rating': 4.0,\n",
       " 'price': '$$'}"
      ]
     },
     "execution_count": 297,
     "metadata": {},
     "output_type": "execute_result"
    }
   ],
   "source": [
    "small_recs[0]"
   ]
  },
  {
   "cell_type": "code",
   "execution_count": 308,
   "metadata": {},
   "outputs": [],
   "source": [
    "small_reviews = yelp.get_reviews(small_recs)"
   ]
  },
  {
   "cell_type": "code",
   "execution_count": 307,
   "metadata": {},
   "outputs": [
    {
     "data": {
      "text/plain": [
       "('FGHH7p9ZL40ogeMl0vPJbA',\n",
       " 'The burger is good and the slogan is the worst slogan ever. It makes me think of the old joke What is the difference between meat and fish? If you beat your...',\n",
       " 4,\n",
       " '2019-07-21 19:33:39',\n",
       " 'fgtw4swOHXEFwZpBCG05rQ')"
      ]
     },
     "execution_count": 307,
     "metadata": {},
     "output_type": "execute_result"
    }
   ],
   "source": [
    "tuple(small_reviews[0].values())"
   ]
  },
  {
   "cell_type": "code",
   "execution_count": 304,
   "metadata": {},
   "outputs": [],
   "source": [
    "yelp.populate_reviews(small_reviews, config_params=config, table_name='test_reviews')"
   ]
  },
  {
   "cell_type": "markdown",
   "metadata": {},
   "source": [
    "### Sample SQL Query \n",
    "\n",
    "Below is a SQL query to create a table.  Additionally here is a link to create a table with a foreign key.\n",
    "\n",
    "http://www.mysqltutorial.org/mysql-foreign-key/\n",
    "\n",
    "```CREATE TABLE IF NOT EXISTS tasks (\n",
    "    task_id INT AUTO_INCREMENT,\n",
    "    title VARCHAR(255) NOT NULL,\n",
    "    start_date DATE,\n",
    "    due_date DATE,\n",
    "    status TINYINT NOT NULL,\n",
    "    priority TINYINT NOT NULL,\n",
    "    description TEXT,\n",
    "    PRIMARY KEY (task_id)\n",
    ")  ENGINE=INNODB;```"
   ]
  },
  {
   "cell_type": "code",
   "execution_count": null,
   "metadata": {},
   "outputs": [],
   "source": []
  }
 ],
 "metadata": {
  "kernelspec": {
   "display_name": "Python 3",
   "language": "python",
   "name": "python3"
  },
  "language_info": {
   "codemirror_mode": {
    "name": "ipython",
    "version": 3
   },
   "file_extension": ".py",
   "mimetype": "text/x-python",
   "name": "python",
   "nbconvert_exporter": "python",
   "pygments_lexer": "ipython3",
   "version": "3.6.6"
  },
  "toc": {
   "base_numbering": 1,
   "nav_menu": {},
   "number_sections": false,
   "sideBar": true,
   "skip_h1_title": false,
   "title_cell": "Table of Contents",
   "title_sidebar": "Contents",
   "toc_cell": false,
   "toc_position": {},
   "toc_section_display": true,
   "toc_window_display": false
  }
 },
 "nbformat": 4,
 "nbformat_minor": 2
}
