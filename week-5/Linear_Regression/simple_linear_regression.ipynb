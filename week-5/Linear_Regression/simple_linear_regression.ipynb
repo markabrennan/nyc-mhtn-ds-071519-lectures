{
 "cells": [
  {
   "cell_type": "code",
   "execution_count": 2,
   "metadata": {},
   "outputs": [],
   "source": [
    "# build a simple linear regression in python\n",
    "import pandas as pd\n",
    "import numpy as np\n",
    "import statsmodels.api as sm\n",
    "from statsmodels.formula.api import ols\n",
    "import matplotlib.pyplot as plt\n",
    "import seaborn as sns\n",
    "from scipy.stats.stats import pearsonr\n",
    "import scipy as sp\n",
    "plt.style.use('seaborn')"
   ]
  },
  {
   "cell_type": "markdown",
   "metadata": {},
   "source": [
    "# Simple Linear Regression"
   ]
  },
  {
   "cell_type": "markdown",
   "metadata": {},
   "source": [
    "**Regression analysis** is a tool to investigate how independent variables are related to a dependent varliable. For example, one may wish to use a person's height, gender, race, etc. to predict a person's weight. \n"
   ]
  },
  {
   "cell_type": "markdown",
   "metadata": {},
   "source": [
    "**Response Variable**\n",
    "- Denoted, Y, is also called the target variable  or dependent variable. In the example, weight is the response variable.\n",
    "\n",
    "**Predictor Variable**\n",
    "- Denoted, X, is also called the explanatory variable or independent variable. In the example, height is the predictor."
   ]
  },
  {
   "cell_type": "markdown",
   "metadata": {},
   "source": [
    "\n",
    "\n",
    "To use known information to provide a better estimate, we need to understand how the dependent and independent variables are related. In statistics, we can describe how variables are related using a mathematical function. The function along with other assumptions is called a model.  \n",
    "\n",
    "In this class, we will focus on a model where we use one predictor variable(height) to predict the response variable(weight). We refer to this model as the simple linear regression model."
   ]
  },
  {
   "cell_type": "code",
   "execution_count": 3,
   "metadata": {},
   "outputs": [],
   "source": [
    "#read in height weight data\n",
    "weight_df = pd.read_csv('https://raw.githubusercontent.com/learn-co-students/nyc-mhtn-ds-071519-lectures/master/week-1/Descriptive_Statistics/weight-height.csv')"
   ]
  },
  {
   "cell_type": "code",
   "execution_count": 4,
   "metadata": {},
   "outputs": [],
   "source": [
    "#read in movie data\n",
    "movie_df = pd.read_csv('cleaned_movie_data.csv', index_col=0)"
   ]
  },
  {
   "cell_type": "code",
   "execution_count": 5,
   "metadata": {},
   "outputs": [
    {
     "data": {
      "text/html": [
       "<div>\n",
       "<style scoped>\n",
       "    .dataframe tbody tr th:only-of-type {\n",
       "        vertical-align: middle;\n",
       "    }\n",
       "\n",
       "    .dataframe tbody tr th {\n",
       "        vertical-align: top;\n",
       "    }\n",
       "\n",
       "    .dataframe thead th {\n",
       "        text-align: right;\n",
       "    }\n",
       "</style>\n",
       "<table border=\"1\" class=\"dataframe\">\n",
       "  <thead>\n",
       "    <tr style=\"text-align: right;\">\n",
       "      <th></th>\n",
       "      <th>color</th>\n",
       "      <th>director_name</th>\n",
       "      <th>num_critic_for_reviews</th>\n",
       "      <th>duration</th>\n",
       "      <th>director_facebook_likes</th>\n",
       "      <th>actor_3_facebook_likes</th>\n",
       "      <th>actor_2_name</th>\n",
       "      <th>actor_1_facebook_likes</th>\n",
       "      <th>gross</th>\n",
       "      <th>genres</th>\n",
       "      <th>...</th>\n",
       "      <th>title_year</th>\n",
       "      <th>actor_2_facebook_likes</th>\n",
       "      <th>imdb_score</th>\n",
       "      <th>movie_facebook_likes</th>\n",
       "      <th>rating</th>\n",
       "      <th>G</th>\n",
       "      <th>Other</th>\n",
       "      <th>PG</th>\n",
       "      <th>PG-13</th>\n",
       "      <th>R</th>\n",
       "    </tr>\n",
       "  </thead>\n",
       "  <tbody>\n",
       "    <tr>\n",
       "      <th>0</th>\n",
       "      <td>Color</td>\n",
       "      <td>James Cameron</td>\n",
       "      <td>723.0</td>\n",
       "      <td>178.0</td>\n",
       "      <td>0.0</td>\n",
       "      <td>855.0</td>\n",
       "      <td>Joel David Moore</td>\n",
       "      <td>1000.0</td>\n",
       "      <td>760505847.0</td>\n",
       "      <td>Action|Adventure|Fantasy|Sci-Fi</td>\n",
       "      <td>...</td>\n",
       "      <td>2009.0</td>\n",
       "      <td>936.0</td>\n",
       "      <td>7.9</td>\n",
       "      <td>33000</td>\n",
       "      <td>PG-13</td>\n",
       "      <td>0</td>\n",
       "      <td>0</td>\n",
       "      <td>0</td>\n",
       "      <td>1</td>\n",
       "      <td>0</td>\n",
       "    </tr>\n",
       "    <tr>\n",
       "      <th>1</th>\n",
       "      <td>Color</td>\n",
       "      <td>Gore Verbinski</td>\n",
       "      <td>302.0</td>\n",
       "      <td>169.0</td>\n",
       "      <td>563.0</td>\n",
       "      <td>1000.0</td>\n",
       "      <td>Orlando Bloom</td>\n",
       "      <td>40000.0</td>\n",
       "      <td>309404152.0</td>\n",
       "      <td>Action|Adventure|Fantasy</td>\n",
       "      <td>...</td>\n",
       "      <td>2007.0</td>\n",
       "      <td>5000.0</td>\n",
       "      <td>7.1</td>\n",
       "      <td>0</td>\n",
       "      <td>PG-13</td>\n",
       "      <td>0</td>\n",
       "      <td>0</td>\n",
       "      <td>0</td>\n",
       "      <td>1</td>\n",
       "      <td>0</td>\n",
       "    </tr>\n",
       "    <tr>\n",
       "      <th>2</th>\n",
       "      <td>Color</td>\n",
       "      <td>Sam Mendes</td>\n",
       "      <td>602.0</td>\n",
       "      <td>148.0</td>\n",
       "      <td>0.0</td>\n",
       "      <td>161.0</td>\n",
       "      <td>Rory Kinnear</td>\n",
       "      <td>11000.0</td>\n",
       "      <td>200074175.0</td>\n",
       "      <td>Action|Adventure|Thriller</td>\n",
       "      <td>...</td>\n",
       "      <td>2015.0</td>\n",
       "      <td>393.0</td>\n",
       "      <td>6.8</td>\n",
       "      <td>85000</td>\n",
       "      <td>PG-13</td>\n",
       "      <td>0</td>\n",
       "      <td>0</td>\n",
       "      <td>0</td>\n",
       "      <td>1</td>\n",
       "      <td>0</td>\n",
       "    </tr>\n",
       "    <tr>\n",
       "      <th>3</th>\n",
       "      <td>Color</td>\n",
       "      <td>Christopher Nolan</td>\n",
       "      <td>813.0</td>\n",
       "      <td>164.0</td>\n",
       "      <td>22000.0</td>\n",
       "      <td>23000.0</td>\n",
       "      <td>Christian Bale</td>\n",
       "      <td>27000.0</td>\n",
       "      <td>448130642.0</td>\n",
       "      <td>Action|Thriller</td>\n",
       "      <td>...</td>\n",
       "      <td>2012.0</td>\n",
       "      <td>23000.0</td>\n",
       "      <td>8.5</td>\n",
       "      <td>164000</td>\n",
       "      <td>PG-13</td>\n",
       "      <td>0</td>\n",
       "      <td>0</td>\n",
       "      <td>0</td>\n",
       "      <td>1</td>\n",
       "      <td>0</td>\n",
       "    </tr>\n",
       "    <tr>\n",
       "      <th>5</th>\n",
       "      <td>Color</td>\n",
       "      <td>Andrew Stanton</td>\n",
       "      <td>462.0</td>\n",
       "      <td>132.0</td>\n",
       "      <td>475.0</td>\n",
       "      <td>530.0</td>\n",
       "      <td>Samantha Morton</td>\n",
       "      <td>640.0</td>\n",
       "      <td>73058679.0</td>\n",
       "      <td>Action|Adventure|Sci-Fi</td>\n",
       "      <td>...</td>\n",
       "      <td>2012.0</td>\n",
       "      <td>632.0</td>\n",
       "      <td>6.6</td>\n",
       "      <td>24000</td>\n",
       "      <td>PG-13</td>\n",
       "      <td>0</td>\n",
       "      <td>0</td>\n",
       "      <td>0</td>\n",
       "      <td>1</td>\n",
       "      <td>0</td>\n",
       "    </tr>\n",
       "  </tbody>\n",
       "</table>\n",
       "<p>5 rows × 32 columns</p>\n",
       "</div>"
      ],
      "text/plain": [
       "   color      director_name  num_critic_for_reviews  duration  \\\n",
       "0  Color      James Cameron                   723.0     178.0   \n",
       "1  Color     Gore Verbinski                   302.0     169.0   \n",
       "2  Color         Sam Mendes                   602.0     148.0   \n",
       "3  Color  Christopher Nolan                   813.0     164.0   \n",
       "5  Color     Andrew Stanton                   462.0     132.0   \n",
       "\n",
       "   director_facebook_likes  actor_3_facebook_likes      actor_2_name  \\\n",
       "0                      0.0                   855.0  Joel David Moore   \n",
       "1                    563.0                  1000.0     Orlando Bloom   \n",
       "2                      0.0                   161.0      Rory Kinnear   \n",
       "3                  22000.0                 23000.0    Christian Bale   \n",
       "5                    475.0                   530.0   Samantha Morton   \n",
       "\n",
       "   actor_1_facebook_likes        gross                           genres ...  \\\n",
       "0                  1000.0  760505847.0  Action|Adventure|Fantasy|Sci-Fi ...   \n",
       "1                 40000.0  309404152.0         Action|Adventure|Fantasy ...   \n",
       "2                 11000.0  200074175.0        Action|Adventure|Thriller ...   \n",
       "3                 27000.0  448130642.0                  Action|Thriller ...   \n",
       "5                   640.0   73058679.0          Action|Adventure|Sci-Fi ...   \n",
       "\n",
       "  title_year actor_2_facebook_likes  imdb_score  movie_facebook_likes rating  \\\n",
       "0     2009.0                  936.0         7.9                 33000  PG-13   \n",
       "1     2007.0                 5000.0         7.1                     0  PG-13   \n",
       "2     2015.0                  393.0         6.8                 85000  PG-13   \n",
       "3     2012.0                23000.0         8.5                164000  PG-13   \n",
       "5     2012.0                  632.0         6.6                 24000  PG-13   \n",
       "\n",
       "   G Other  PG PG-13  R  \n",
       "0  0     0   0     1  0  \n",
       "1  0     0   0     1  0  \n",
       "2  0     0   0     1  0  \n",
       "3  0     0   0     1  0  \n",
       "5  0     0   0     1  0  \n",
       "\n",
       "[5 rows x 32 columns]"
      ]
     },
     "execution_count": 5,
     "metadata": {},
     "output_type": "execute_result"
    }
   ],
   "source": [
    "movie_df.head()"
   ]
  },
  {
   "cell_type": "markdown",
   "metadata": {},
   "source": [
    "## Objectives: \n",
    "\n",
    "- Use plots and summary statistics to describe the relationship between the response variable and the predictor variable.\n",
    "- Apply the regression model and interpret the results.\n",
    "- Perform a hypothesis test for the population correlation.\n",
    "- Know the assumptions and limitations of a linear regression model.\n"
   ]
  },
  {
   "cell_type": "markdown",
   "metadata": {},
   "source": [
    "## Setting the stage\n",
    "In order to create a model that can make predictions for unseen data, we need to understand the relationship between the target variable and the explanatory variable."
   ]
  },
  {
   "cell_type": "markdown",
   "metadata": {},
   "source": [
    "For a brief review of linear functions, recall that the equation of a line has the following form:\n",
    "$$y=mx+b$$\n",
    "\n",
    "where $m$ is the slope and $b$ is the y-intercept.\n",
    "\n"
   ]
  },
  {
   "cell_type": "markdown",
   "metadata": {},
   "source": [
    "<img src=\"https://www.mathworks.com/help/symbolic/mupad_ug/math-statistics-fits-linear-36e42cfe.png\" >"
   ]
  },
  {
   "cell_type": "markdown",
   "metadata": {},
   "source": [
    "Given two points on a line, ($x_1$ and $y_1$) and ($x_2$ and $y_2$) , the slope is calculated by:\n",
    "\n",
    "\\begin{align} m&=\\dfrac{y_2-y_1}{x_2-x_1}\\\\&=\\dfrac{\\text{change in y}}{\\text{change in x}}\\\\&=\\frac{\\text{rise}}{\\text{run}} \\end{align}"
   ]
  },
  {
   "cell_type": "markdown",
   "metadata": {},
   "source": [
    "In order to be confident that our model will represent the relationship between two variables, we need to be sure there is a linear relationship between the two.  Let's examine the data for a linear relationship."
   ]
  },
  {
   "cell_type": "markdown",
   "metadata": {},
   "source": [
    "### Question:\n",
    "\n",
    "If we want to visually examine if there is relationship between two continuous variables what type of graphic should we use?"
   ]
  },
  {
   "cell_type": "code",
   "execution_count": null,
   "metadata": {},
   "outputs": [],
   "source": [
    "##code for a ____\n",
    "\n",
    "weight_df.plot.scatter(x='Height', y='Weight')"
   ]
  },
  {
   "cell_type": "code",
   "execution_count": 7,
   "metadata": {},
   "outputs": [
    {
     "data": {
      "text/plain": [
       "Index(['color', 'director_name', 'num_critic_for_reviews', 'duration',\n",
       "       'director_facebook_likes', 'actor_3_facebook_likes', 'actor_2_name',\n",
       "       'actor_1_facebook_likes', 'gross', 'genres', 'actor_1_name',\n",
       "       'movie_title', 'num_voted_users', 'cast_total_facebook_likes',\n",
       "       'actor_3_name', 'facenumber_in_poster', 'movie_imdb_link',\n",
       "       'num_user_for_reviews', 'language', 'country', 'content_rating',\n",
       "       'budget', 'title_year', 'actor_2_facebook_likes', 'imdb_score',\n",
       "       'movie_facebook_likes', 'rating', 'G', 'Other', 'PG', 'PG-13', 'R'],\n",
       "      dtype='object')"
      ]
     },
     "execution_count": 7,
     "metadata": {},
     "output_type": "execute_result"
    }
   ],
   "source": [
    "movie_df.columns"
   ]
  },
  {
   "cell_type": "code",
   "execution_count": 9,
   "metadata": {},
   "outputs": [],
   "source": [
    "movie_df = movie_df[movie_df['budget']<500000000]"
   ]
  },
  {
   "cell_type": "code",
   "execution_count": 10,
   "metadata": {},
   "outputs": [
    {
     "data": {
      "text/plain": [
       "<matplotlib.axes._subplots.AxesSubplot at 0x1c20eb6a90>"
      ]
     },
     "execution_count": 10,
     "metadata": {},
     "output_type": "execute_result"
    },
    {
     "data": {
      "image/png": "[encoded data removed]",
      "text/plain": [
       "<Figure size 576x396 with 1 Axes>"
      ]
     },
     "metadata": {},
     "output_type": "display_data"
    }
   ],
   "source": [
    "movie_df.plot.scatter(x='budget', y='gross')"
   ]
  },
  {
   "cell_type": "code",
   "execution_count": null,
   "metadata": {},
   "outputs": [],
   "source": [
    "#create a scatterplot of the budget and gross for the movie df"
   ]
  },
  {
   "cell_type": "markdown",
   "metadata": {},
   "source": [
    "<img src='http://www.cqeacademy.com/wp-content/uploads/2018/06/Scatter-Plots-and-Correlation-Examples.png' width=\"900\">"
   ]
  },
  {
   "cell_type": "markdown",
   "metadata": {},
   "source": [
    "### Question:  \n",
    "\n",
    "If we want to provide a measure of the strength of the linear relationship between two quantitative variables, what is the name of the measure we would like to use?\n",
    "\n"
   ]
  },
  {
   "cell_type": "code",
   "execution_count": 11,
   "metadata": {},
   "outputs": [],
   "source": [
    "# Pearson Correlation Coefficient!"
   ]
  },
  {
   "cell_type": "code",
   "execution_count": null,
   "metadata": {},
   "outputs": [],
   "source": []
  },
  {
   "cell_type": "code",
   "execution_count": null,
   "metadata": {},
   "outputs": [],
   "source": []
  },
  {
   "cell_type": "code",
   "execution_count": null,
   "metadata": {},
   "outputs": [],
   "source": []
  },
  {
   "cell_type": "code",
   "execution_count": null,
   "metadata": {},
   "outputs": [],
   "source": []
  },
  {
   "cell_type": "code",
   "execution_count": null,
   "metadata": {},
   "outputs": [],
   "source": []
  },
  {
   "cell_type": "markdown",
   "metadata": {},
   "source": [
    "### Sample Correlation Coefficient\n",
    "\n",
    "The sample correlation coefficient is typically denoted as $r$. It is also known as Pearson’s $r$. The population correlation coefficient is generally denoted as  $\\rho_1$, pronounced “rho.”\n",
    "\n",
    "\n",
    "The sample correlation coefficient, $r$, is calculated using the following formula:\n",
    "\n",
    "$$r=\\dfrac{\\sum (x_i-\\bar{x})(y_i-\\bar{y}) }{\\sqrt{\\sum (x_i-\\bar{x})^2}\\sqrt{\\sum (y_i-\\bar{y})^2}}$$"
   ]
  },
  {
   "cell_type": "code",
   "execution_count": 12,
   "metadata": {},
   "outputs": [
    {
     "data": {
      "text/plain": [
       "(0.9247562987409147, 0.0)"
      ]
     },
     "execution_count": 12,
     "metadata": {},
     "output_type": "execute_result"
    }
   ],
   "source": [
    "#calculate correlation coefficient for data\n",
    "\n",
    "pearsonr(weight_df['Weight'], weight_df['Height'])"
   ]
  },
  {
   "cell_type": "code",
   "execution_count": 13,
   "metadata": {},
   "outputs": [
    {
     "data": {
      "text/plain": [
       "(0.62265193980123, 0.0)"
      ]
     },
     "execution_count": 13,
     "metadata": {},
     "output_type": "execute_result"
    }
   ],
   "source": [
    "#calculate correlation coefficient for the movie df\n",
    "pearsonr(movie_df['budget'], movie_df['gross'])\n"
   ]
  },
  {
   "cell_type": "markdown",
   "metadata": {},
   "source": [
    "## Simple Linear Regression Model\n",
    "\n",
    "The general form of the simple linear regression model is...\n",
    "\n",
    "$$Y=\\beta_0+\\beta_1X+\\epsilon$$\n",
    "\n",
    "For an individual observation,\n",
    "\n",
    "$$y_i=\\beta_0+\\beta_1x_i+\\epsilon_i$$\n",
    "\n",
    "where,\n",
    "\n",
    "$\\beta_0$ is the population y-intercept,\n",
    "\n",
    "$\\beta_1$ is the population slope, and\n",
    "\n",
    "$\\epsilon_i$ is the error or deviation of $y_i$ from the line, $\\beta_0+\\beta_1x_i$."
   ]
  },
  {
   "cell_type": "markdown",
   "metadata": {},
   "source": [
    "<img src=\"https://www.stevejburr.com/post/2019-03-27-scatter-plots-and-best-fit-lines_files/figure-html/unnamed-chunk-2-1.png\" >"
   ]
  },
  {
   "cell_type": "markdown",
   "metadata": {},
   "source": [
    "How do we know which line is the best fit?\n",
    "\n",
    "**It is the line that minimizes our errors, also called residuals.**"
   ]
  },
  {
   "cell_type": "markdown",
   "metadata": {},
   "source": [
    "### Residual\n",
    "$\\hat{\\epsilon}_i=y_i-\\hat{y}_i$ is the observed error, typically called the residual."
   ]
  },
  {
   "cell_type": "markdown",
   "metadata": {},
   "source": [
    "<img src=\"https://encrypted-tbn0.gstatic.com/images?q=tbn:ANd9GcToATqP0jQd-VRjdo8cxNwfcqKoM3cw3b6FembVLP1ExpNLZbW0\" width=\"500\">"
   ]
  },
  {
   "cell_type": "markdown",
   "metadata": {},
   "source": [
    "### Least Squares Line\n",
    "The least squares line is the line for which the sum of squared errors of predictions for all sample points is the least."
   ]
  },
  {
   "cell_type": "markdown",
   "metadata": {},
   "source": [
    "$$SSR = \\sum_{i=1}^n (\\hat{y} - yi)^2$$"
   ]
  },
  {
   "cell_type": "markdown",
   "metadata": {},
   "source": [
    "## Fitting a Model in Python\n",
    "\n"
   ]
  },
  {
   "cell_type": "code",
   "execution_count": null,
   "metadata": {},
   "outputs": [],
   "source": [
    "# building a linear regression model using statsmodel \n",
    "lr_model = ols(formula='Weight~Height', data=weight_df).fit()\n",
    "\n",
    "lr_model.summary()"
   ]
  },
  {
   "cell_type": "code",
   "execution_count": 15,
   "metadata": {},
   "outputs": [],
   "source": [
    "lr_model = ols(formula='gross~budget', data=movie_df).fit()"
   ]
  },
  {
   "cell_type": "code",
   "execution_count": 16,
   "metadata": {},
   "outputs": [
    {
     "data": {
      "text/html": [
       "<table class=\"simpletable\">\n",
       "<caption>OLS Regression Results</caption>\n",
       "<tr>\n",
       "  <th>Dep. Variable:</th>          <td>gross</td>      <th>  R-squared:         </th> <td>   0.388</td> \n",
       "</tr>\n",
       "<tr>\n",
       "  <th>Model:</th>                   <td>OLS</td>       <th>  Adj. R-squared:    </th> <td>   0.388</td> \n",
       "</tr>\n",
       "<tr>\n",
       "  <th>Method:</th>             <td>Least Squares</td>  <th>  F-statistic:       </th> <td>   2624.</td> \n",
       "</tr>\n",
       "<tr>\n",
       "  <th>Date:</th>             <td>Thu, 15 Aug 2019</td> <th>  Prob (F-statistic):</th>  <td>  0.00</td>  \n",
       "</tr>\n",
       "<tr>\n",
       "  <th>Time:</th>                 <td>16:09:17</td>     <th>  Log-Likelihood:    </th> <td> -79670.</td> \n",
       "</tr>\n",
       "<tr>\n",
       "  <th>No. Observations:</th>      <td>  4146</td>      <th>  AIC:               </th> <td>1.593e+05</td>\n",
       "</tr>\n",
       "<tr>\n",
       "  <th>Df Residuals:</th>          <td>  4144</td>      <th>  BIC:               </th> <td>1.594e+05</td>\n",
       "</tr>\n",
       "<tr>\n",
       "  <th>Df Model:</th>              <td>     1</td>      <th>                     </th>     <td> </td>    \n",
       "</tr>\n",
       "<tr>\n",
       "  <th>Covariance Type:</th>      <td>nonrobust</td>    <th>                     </th>     <td> </td>    \n",
       "</tr>\n",
       "</table>\n",
       "<table class=\"simpletable\">\n",
       "<tr>\n",
       "      <td></td>         <th>coef</th>     <th>std err</th>      <th>t</th>      <th>P>|t|</th>  <th>[0.025</th>    <th>0.975]</th>  \n",
       "</tr>\n",
       "<tr>\n",
       "  <th>Intercept</th> <td> 1.029e+07</td> <td> 1.12e+06</td> <td>    9.188</td> <td> 0.000</td> <td> 8.09e+06</td> <td> 1.25e+07</td>\n",
       "</tr>\n",
       "<tr>\n",
       "  <th>budget</th>    <td>    1.0018</td> <td>    0.020</td> <td>   51.224</td> <td> 0.000</td> <td>    0.963</td> <td>    1.040</td>\n",
       "</tr>\n",
       "</table>\n",
       "<table class=\"simpletable\">\n",
       "<tr>\n",
       "  <th>Omnibus:</th>       <td>2302.650</td> <th>  Durbin-Watson:     </th> <td>   1.373</td> \n",
       "</tr>\n",
       "<tr>\n",
       "  <th>Prob(Omnibus):</th>  <td> 0.000</td>  <th>  Jarque-Bera (JB):  </th> <td>42343.660</td>\n",
       "</tr>\n",
       "<tr>\n",
       "  <th>Skew:</th>           <td> 2.250</td>  <th>  Prob(JB):          </th> <td>    0.00</td> \n",
       "</tr>\n",
       "<tr>\n",
       "  <th>Kurtosis:</th>       <td>17.995</td>  <th>  Cond. No.          </th> <td>7.70e+07</td> \n",
       "</tr>\n",
       "</table><br/><br/>Warnings:<br/>[1] Standard Errors assume that the covariance matrix of the errors is correctly specified.<br/>[2] The condition number is large, 7.7e+07. This might indicate that there are<br/>strong multicollinearity or other numerical problems."
      ],
      "text/plain": [
       "<class 'statsmodels.iolib.summary.Summary'>\n",
       "\"\"\"\n",
       "                            OLS Regression Results                            \n",
       "==============================================================================\n",
       "Dep. Variable:                  gross   R-squared:                       0.388\n",
       "Model:                            OLS   Adj. R-squared:                  0.388\n",
       "Method:                 Least Squares   F-statistic:                     2624.\n",
       "Date:                Thu, 15 Aug 2019   Prob (F-statistic):               0.00\n",
       "Time:                        16:09:17   Log-Likelihood:                -79670.\n",
       "No. Observations:                4146   AIC:                         1.593e+05\n",
       "Df Residuals:                    4144   BIC:                         1.594e+05\n",
       "Df Model:                           1                                         \n",
       "Covariance Type:            nonrobust                                         \n",
       "==============================================================================\n",
       "                 coef    std err          t      P>|t|      [0.025      0.975]\n",
       "------------------------------------------------------------------------------\n",
       "Intercept   1.029e+07   1.12e+06      9.188      0.000    8.09e+06    1.25e+07\n",
       "budget         1.0018      0.020     51.224      0.000       0.963       1.040\n",
       "==============================================================================\n",
       "Omnibus:                     2302.650   Durbin-Watson:                   1.373\n",
       "Prob(Omnibus):                  0.000   Jarque-Bera (JB):            42343.660\n",
       "Skew:                           2.250   Prob(JB):                         0.00\n",
       "Kurtosis:                      17.995   Cond. No.                     7.70e+07\n",
       "==============================================================================\n",
       "\n",
       "Warnings:\n",
       "[1] Standard Errors assume that the covariance matrix of the errors is correctly specified.\n",
       "[2] The condition number is large, 7.7e+07. This might indicate that there are\n",
       "strong multicollinearity or other numerical problems.\n",
       "\"\"\""
      ]
     },
     "execution_count": 16,
     "metadata": {},
     "output_type": "execute_result"
    }
   ],
   "source": [
    "lr_model.summary()"
   ]
  },
  {
   "cell_type": "markdown",
   "metadata": {},
   "source": [
    "### Applied:\n",
    "    \n",
    "Fit a simple linear model to predict the gross of a film as a function of its budget. Then write a sentence to that will interpret the coefficient of the independent variable and the intercept of the model. "
   ]
  },
  {
   "cell_type": "code",
   "execution_count": null,
   "metadata": {},
   "outputs": [],
   "source": [
    "# your code here"
   ]
  },
  {
   "cell_type": "markdown",
   "metadata": {},
   "source": [
    "## Interpreting the Model output\n",
    "\n",
    "### Interpreting the slope of the regression equation,  $\\hat{\\beta}_1$ \n",
    "$\\hat{\\beta}_1$ represents the estimated increase in $Y$ per unit increase in $X$. Note that the increase may be negative which is reflected when $\\hat{\\beta}_1$ is negative.\n",
    " \n",
    "### Interpreting the intercept of the regression equation, $\\hat{\\beta}_0$\n",
    "$\\hat{\\beta}_0$ is the -intercept of the regression line. When $X=0$ is within the scope of observation, $\\hat{\\beta}_0$ is the estimated value of $Y$ when $X=0$ ."
   ]
  },
  {
   "cell_type": "code",
   "execution_count": null,
   "metadata": {},
   "outputs": [],
   "source": [
    "## write a sentence that interprets the variable coefficient"
   ]
  },
  {
   "cell_type": "markdown",
   "metadata": {},
   "source": [
    "***Can you take the take the output of model summary and use it to rewrite the model with actual values?***\n",
    "\n",
    "(*Replace the betas with numbers*)\n"
   ]
  },
  {
   "cell_type": "code",
   "execution_count": null,
   "metadata": {},
   "outputs": [],
   "source": [
    "## write model here."
   ]
  },
  {
   "cell_type": "markdown",
   "metadata": {},
   "source": [
    "\n",
    "\n",
    "### Why is there a p-value for the coefficient\n",
    "\n",
    "If we think about linear regression as a way to test if there is a relationship between two variables, then we can translate it to a hypothesis test:\n",
    "\n",
    "$H_0\\colon \\beta_1=0$\n",
    "\n",
    "$H_a\\colon \\beta_1\\ne0$\n",
    "\n",
    "With this in mind, how would you interpret the p-value in this output?"
   ]
  },
  {
   "cell_type": "code",
   "execution_count": null,
   "metadata": {},
   "outputs": [],
   "source": [
    "## write your sentence here"
   ]
  },
  {
   "cell_type": "markdown",
   "metadata": {},
   "source": [
    "\n",
    "##  Coefficient of Determination ($R^2$)\n",
    "\n",
    "The _coefficient of determination_, is a measure of how well the model fits the data.\n",
    "\n",
    "$R^2$ for a model is ultimately a _relational_ notion. It's a measure of goodness of fit _relative_ to a (bad) baseline model. This bad baseline model is simply the horizontal line $y = \\mu_Y$, for dependent variable $Y$.\n",
    "\n",
    "The actual calculation of $R^2$ is: <br/> $$\\Large R^2=\\frac{\\Sigma_i(y_i - \\hat{y}_i)^2}{\\Sigma_i(y_i - \\bar{y})^2}$$.\n",
    "\n",
    "$R^2$ takes values between 0 and 1.\n",
    "\n",
    "$R^2$ is a measure of how much variation in the dependent variable your model explains.\n"
   ]
  },
  {
   "cell_type": "markdown",
   "metadata": {},
   "source": [
    "<img src='https://pbs.twimg.com/media/D-Gu7E0WsAANhLY.png' width =\"700\">"
   ]
  },
  {
   "cell_type": "markdown",
   "metadata": {},
   "source": [
    "***Write a sentence interpreting the $R^2$ value from your movie model***"
   ]
  },
  {
   "cell_type": "code",
   "execution_count": 19,
   "metadata": {},
   "outputs": [],
   "source": [
    "#0.388 our model explains 38 % of the variation in our target"
   ]
  },
  {
   "cell_type": "code",
   "execution_count": 18,
   "metadata": {},
   "outputs": [
    {
     "data": {
      "text/plain": [
       "0.612"
      ]
     },
     "execution_count": 18,
     "metadata": {},
     "output_type": "execute_result"
    }
   ],
   "source": [
    "1 - .388"
   ]
  },
  {
   "cell_type": "code",
   "execution_count": null,
   "metadata": {},
   "outputs": [],
   "source": []
  },
  {
   "cell_type": "markdown",
   "metadata": {},
   "source": [
    "### Assumptions for Simple Linear Regression\n",
    "1. **Linearity**: The relationship between $X$ and $Y$ must be linear.\n",
    "    - Check this assumption by examining a scatterplot of x and y.\n",
    "\n",
    "\n",
    "2. **Independence of errors**: There is not a relationship between the residuals and the $Y$ variable; in other words, $Y$ is independent of errors.\n",
    "    - Check this assumption by examining a scatterplot of “residuals versus fits”; the correlation should be approximately 0. In other words, there should not look like there is a relationship.\n",
    "\n",
    "\n",
    "3. **Normality of errors**: The residuals must be approximately normally distributed.\n",
    "    - Check this assumption by examining a normal probability plot; the observations should be near the line. You can also examine a histogram of the residuals; it should be approximately normally distributed.\n",
    "\n",
    "\n",
    "4. **Equal variances**: The variance of the residuals is the same for all values of $X$.\n",
    "    - Check this assumption by examining the scatterplot of “residuals versus fits”; the variance of the residuals should be the same across all values of the x-axis. If the plot shows a pattern (e.g., bowtie or megaphone shape), then variances are not consistent, and this assumption has not been met."
   ]
  },
  {
   "cell_type": "code",
   "execution_count": null,
   "metadata": {},
   "outputs": [],
   "source": [
    "# checking for our model - Homoscedasticity,  Independence of residuals\n",
    "pred_val = lr_model.fittedvalues.copy()\n",
    "true_val = weight_df['Weight'].values.copy()\n",
    "residual = true_val - pred_val\n",
    "\n",
    "fig, ax = plt.subplots(figsize=(8, 6))\n",
    "ax.scatter(weight_df['Weight'],residual)\n",
    "ax.set_title('Residual Scatterplot')\n",
    "plt.show()"
   ]
  },
  {
   "cell_type": "code",
   "execution_count": null,
   "metadata": {},
   "outputs": [],
   "source": [
    "#taking a sample of the observations to more clearly evaluate the residuals\n",
    "idx = np.random.choice(np.arange(len(pred_val)), 200, replace=False)\n",
    "x_sample = weight_df['Weight'][idx]\n",
    "y_sample = residual[idx]\n",
    "\n",
    "fig, ax = plt.subplots(figsize=(8,6))\n",
    "ax.scatter(x_sample,y_sample)\n",
    "ax.set_xlabel('Weight')\n",
    "ax.set_ylabel('Residuals')\n",
    "\n",
    "plt.show()"
   ]
  },
  {
   "cell_type": "code",
   "execution_count": null,
   "metadata": {},
   "outputs": [],
   "source": [
    "# checking for normality - QQ plot \n",
    "\n",
    "fig, ax = plt.subplots(figsize=(8,6))\n",
    "sp.stats.probplot(residual, plot=ax, fit=True)"
   ]
  },
  {
   "cell_type": "markdown",
   "metadata": {},
   "source": [
    "## Cautions with Linear Regression\n",
    "\n",
    "1. **Use extrapolation with caution.** \n",
    "\n",
    "Extrapolation is applying a regression model to X-values outside the range of sample X-values to predict values of the response variable . For example, you would not want to use a height of 12 inches height to predict the weight of a baby using a regression model that was fit to adult observations.\n",
    "\n",
    "2. **The fact that there is no linear relationship (i.e. correlation is zero) does not imply there is no relationship altogether.** \n",
    "\n",
    "The scatter plot will reveal whether other possible relationships may exist. The figure below gives an example where X, Y are related, but not linearly related i.e. the correlation is zero.\n",
    "\n",
    "<img src='https://statistics.laerd.com/spss-tutorials/img/pc/linear-non-linear.png' width=\"600\">"
   ]
  },
  {
   "cell_type": "markdown",
   "metadata": {},
   "source": [
    "### Outliers and Influential Observations\n",
    "Influential observations are points whose removal causes the regression equation to change considerably.\n",
    "\n",
    "\n",
    "https://www.desmos.com/calculator/jwquvmikhr"
   ]
  },
  {
   "cell_type": "code",
   "execution_count": null,
   "metadata": {},
   "outputs": [],
   "source": []
  }
 ],
 "metadata": {
  "kernelspec": {
   "display_name": "Python 3",
   "language": "python",
   "name": "python3"
  },
  "language_info": {
   "codemirror_mode": {
    "name": "ipython",
    "version": 3
   },
   "file_extension": ".py",
   "mimetype": "text/x-python",
   "name": "python",
   "nbconvert_exporter": "python",
   "pygments_lexer": "ipython3",
   "version": "3.6.6"
  }
 },
 "nbformat": 4,
 "nbformat_minor": 2
}
